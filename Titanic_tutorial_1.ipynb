{
  "nbformat": 4,
  "nbformat_minor": 0,
  "metadata": {
    "colab": {
      "name": "Titanic_tutorial_1.ipynb",
      "private_outputs": true,
      "provenance": [],
      "collapsed_sections": [],
      "authorship_tag": "ABX9TyNy5FxdygbiWGkraDOQHyIa",
      "include_colab_link": true
    },
    "kernelspec": {
      "name": "python3",
      "display_name": "Python 3"
    },
    "language_info": {
      "name": "python"
    }
  },
  "cells": [
    {
      "cell_type": "markdown",
      "metadata": {
        "id": "view-in-github",
        "colab_type": "text"
      },
      "source": [
        "<a href=\"https://colab.research.google.com/github/chaerin314/kaggle_transcription/blob/main/Titanic_tutorial_1.ipynb\" target=\"_parent\"><img src=\"https://colab.research.google.com/assets/colab-badge.svg\" alt=\"Open In Colab\"/></a>"
      ]
    },
    {
      "cell_type": "markdown",
      "source": [
        "- 만약 데이터 사이언스, 머신러닝 또는 캐글에서 어떤 것을 해야하는 지 잘 모르는 newbie 라면, 타이타닉을 하시는 게 가장 좋은 선택입니다.\n",
        "- 타이타닉은 아시다시피, 사상 최대 해난사고로써, 1,500여명의 희생자가 생겼습니다.\n",
        "- 우리는 이 튜토리얼에서 타이타닉에 탑승한 사람들의 신상정보를 활용하여, 승선한 사람들의 생존여부를 예측하는 모델을 생성할 것입니다.\n",
        "- 본 튜토리얼에서는 여러 시각화 도구(matplotlib, seaborn, plotly), 데이터 분석 도구(pandas, numpy), 머신 러닝 도구(sklearn)을 사용할 것입니다.\n",
        "- 본 튜토리얼은 캐글에 있는 여러 커널들을 참조하여 만들었습니다. 본 튜토리얼을 공부하신 뒤에, 캐글 타이타닉 컴퍼티션에 존재하는 여러 다른 커널들을 더 공부하시면 됩니다.\n",
        "- 본 튜토리얼은 파이썬 문법에 어려움이 없으셔야 수월할 것입니다. 여기서 사용하는 라이브러리들을 써본 경험이 있으면 좋겠지만, 경험이 없다하더라도 한 줄씩 천천히 적어나가시면 충분히 하실 수 있습니다."
      ],
      "metadata": {
        "id": "AUc-kwSEAq9S"
      }
    },
    {
      "cell_type": "code",
      "execution_count": null,
      "metadata": {
        "id": "ATLPjvkM1nmv"
      },
      "outputs": [],
      "source": [
        "import numpy as np\n",
        "import pandas as pd\n",
        "import matplotlib.pyplot as plt\n",
        "import seaborn as sns\n",
        "\n",
        "# 이 두줄은 본 필자가 항상 쓰는 방법입니다. matplotlib의 기본 scheme 말고 seaborn scheme을 세팅하고, 일일이 graph의 font size를 지정할 필요 없이 seaborn의 font_scale을 사용하면 편합니다.\n",
        "plt.style.use('seaborn')\n",
        "sns.set(font_scale=2.5)\n",
        "\n",
        "import missingno as msno\n",
        "\n",
        "# ignore warnings\n",
        "import warnings\n",
        "warnings.filterwarnings('ignore')\n",
        "\n",
        "%matplotlib inline"
      ]
    },
    {
      "cell_type": "markdown",
      "source": [
        "앞으로 우리가 해야할 프로세스는 대략 아래와 같습니다.\n",
        "1. 데이터셋 확인 - 대부분의 캐글 데이터들은 잘 정제되어 있습니다. 하지만 가끔 null data가 존재합니다. 이를 확인하고, 향후 수정합니다.\n",
        "2. 탐색적 데이터 분석(exploratory data analysis) - 여러 feature 들을 개별적으로 분석하고, feature들 간의 상관관계를 확인합니다. 여러 시각화 툴을 사용하여 insight를 얻습니다.\n",
        "3. feature engineering - 모델을 세우기에 앞서, 모델의 성능을 높일 수 있도록 feature들을 engineering합니다. one-hot encoding, class로 나누기, 구간으로 나누기, 텍스트 데이터 처리 등을 합니다.\n",
        "4. model 만들기 - sklearn 을 사용해 모델을 만듭니다. 파이썬에서 머신러닝을 할 때는 sklearn을 사용하면 수많은 알고리즘을 일관된 문법으로 사용할 수 있습니다. 물론 딥러닝을 위해 tensorflow, pytorch 등을 사용할 수도 있습니다.\n",
        "5. 모델 학습 및 예측 - trainset을 가지고 모델을 학습시킨 후, testset을 가지고 prediction합니다.\n",
        "6. 모델 평가 - 예측 성능이 원하는 수준인지 판단합니다. 풀려는 문제에 따라 모델을 평가하는 방식도 달라집니다. 학습된 모델이 어떤 것을 학습하였는지 확인해봅니다."
      ],
      "metadata": {
        "id": "KuDVuqp5AqX-"
      }
    },
    {
      "cell_type": "markdown",
      "source": [
        "# 1. Dataset 확인"
      ],
      "metadata": {
        "id": "R2mVKMmGmWSM"
      }
    },
    {
      "cell_type": "markdown",
      "source": [
        "\n",
        "- 파이썬에서 테이블화 된 데이터를 다루는 데 가장 최적화되어 있으며, 많이 쓰는 라이브러리는 pandas입니다.\n",
        "- 우리는 pandas를 사용하여 데이터셋의 간단한 통계적 분석부터, 복잡한 처리들을 간단한 메소들을 사용하여 해낼 수 있습니다.\n",
        "- 파이썬으로 데이터분석을 한다고 하면 반드시 능숙해져야 할 라이브러리이니, 여러 커널들을 공부하시면서 사용법에 익숙해지도록 반복 또 반복하시길 권장합니다.\n",
        "- 캐글에서 데이터셋은 보통 train, testset으로 나뉘어있습니다."
      ],
      "metadata": {
        "id": "kIEiNw7jCcZ4"
      }
    },
    {
      "cell_type": "code",
      "source": [
        "from google.colab import drive\n",
        "drive.mount('/content/drive')\n",
        "!mkdir -p ~/.kaggle\n",
        "!cp /content/drive/MyDrive/kaggle_transcription/kaggle.json ~/.kaggle\n",
        "!chmod 600 ~/.kaggle/kaggle.json\n",
        "!kaggle competitions download -c titanic\n",
        "!unzip titanic.zip\n",
        "!rm titanic.zip"
      ],
      "metadata": {
        "id": "8KjIeYpvf7Mz"
      },
      "execution_count": null,
      "outputs": []
    },
    {
      "cell_type": "code",
      "source": [
        "df_train = pd.read_csv('/content/train.csv')\n",
        "df_test = pd.read_csv('/content/test.csv')"
      ],
      "metadata": {
        "id": "wjQR5pofkrjV"
      },
      "execution_count": null,
      "outputs": []
    },
    {
      "cell_type": "code",
      "source": [
        "df_train.head()"
      ],
      "metadata": {
        "id": "r0w1n3bS1gcp"
      },
      "execution_count": null,
      "outputs": []
    },
    {
      "cell_type": "markdown",
      "source": [
        "- 우리가 다루는 문제에서 feature는 Pclass, Age, SibSp, Parch, Fare이며, 예측하려는 target label은 Survived입니다."
      ],
      "metadata": {
        "id": "h3VD1__s1ka1"
      }
    },
    {
      "cell_type": "markdown",
      "source": [
        "![image.png](data:image/png;base64,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)\n",
        "- pandas dataframe에는 describe() 메소드가 있는데, 이를 쓰면 각 feature가 가진 통계치들을 반환해줍니다."
      ],
      "metadata": {
        "id": "aOyZqMJi12RY"
      }
    },
    {
      "cell_type": "code",
      "source": [
        "df_train.describe()"
      ],
      "metadata": {
        "id": "ICQ3L1T_1vSB"
      },
      "execution_count": null,
      "outputs": []
    },
    {
      "cell_type": "code",
      "source": [
        "df_test.describe()"
      ],
      "metadata": {
        "id": "efxE_FXH2jzh"
      },
      "execution_count": null,
      "outputs": []
    },
    {
      "cell_type": "markdown",
      "source": [
        "- 테이블에서 보다시피, Passenser ID 숫자와 다른, 그러니까 null data가 존재하는 열(feature)가 있는 것 같습니다.\n",
        "- 이를 좀 더 보기 편하도록 그래프로 시각화해서 살펴봅시다."
      ],
      "metadata": {
        "id": "cVOEvjhj2ouS"
      }
    },
    {
      "cell_type": "markdown",
      "source": [
        "##1.1 Null data check"
      ],
      "metadata": {
        "id": "ek5tFCVS22W5"
      }
    },
    {
      "cell_type": "code",
      "source": [
        "for col in df_train.columns:\n",
        "  msg = 'column: {:>10}\\t Percent of NaN value: {:.2f}%'.format(col, 100 * (df_train[col].isnull().sum() / df_train[col].shape[0]))\n",
        "  print(msg)"
      ],
      "metadata": {
        "id": "s31rG-CG28Q8"
      },
      "execution_count": null,
      "outputs": []
    },
    {
      "cell_type": "code",
      "source": [
        "for col in df_test.columns:\n",
        "  msg = 'column: {:>10}\\t Percent of NaN value: {:.2f}%'.format(col, 100 * (df_test[col].isnull().sum() / df_test[col].shape[0]))\n",
        "  print(msg)"
      ],
      "metadata": {
        "id": "um90KGfS3sTy"
      },
      "execution_count": null,
      "outputs": []
    },
    {
      "cell_type": "markdown",
      "source": [
        "- Train, Test set에서 Age(둘다 약 20%), Cabin(둘다 약 80%), Embarked(Train만 0.22%) null data 존재하는 것을 볼 수 있습니다.\n",
        "- MSNO라는 라이브러리를 사용하면 null data의 존재를 더 쉽게 볼 수 있습니다."
      ],
      "metadata": {
        "id": "zxGffebe32CB"
      }
    },
    {
      "cell_type": "code",
      "source": [
        "msno.matrix(df=df_train.iloc[:,:], figsize=(8,8), color=(0.8, 0.5, 0.2))"
      ],
      "metadata": {
        "id": "eup4zCMK31bA"
      },
      "execution_count": null,
      "outputs": []
    },
    {
      "cell_type": "code",
      "source": [
        "msno.bar(df=df_train.iloc[:,:], figsize=(8,8), color=(0.8, 0.5, 0.2))"
      ],
      "metadata": {
        "id": "SIlfze594rTT"
      },
      "execution_count": null,
      "outputs": []
    },
    {
      "cell_type": "code",
      "source": [
        "msno.bar(df=df_test.iloc[:, :], figsize=(8, 8), color=(0.8, 0.5, 0.2))"
      ],
      "metadata": {
        "id": "m57rMepp42pg"
      },
      "execution_count": null,
      "outputs": []
    },
    {
      "cell_type": "markdown",
      "source": [
        "##1.2 Target label 확인"
      ],
      "metadata": {
        "id": "Yaf3hxk85AnO"
      }
    },
    {
      "cell_type": "markdown",
      "source": [
        "- target label이 어떤 distribution을 가지고 있는지 확인해봐야 합니다.\n",
        "- 지금 같은 binary classification 문제의 경우에서, 1과 0의 분포가 어떠냐에 따라 모델의 평가 방법이 달라질 수 있습니다."
      ],
      "metadata": {
        "id": "8yuhf1bxCiw8"
      }
    },
    {
      "cell_type": "code",
      "source": [
        "f, ax = plt.subplots(1, 2, figsize=(18,8))\n",
        "\n",
        "df_train['Survived'].value_counts().plot.pie(explode=[0, 0.1], autopct='%1.1f%%', ax=ax[0], shadow=True)\n",
        "ax[0].set_title('Pie plot - Survived')\n",
        "ax[0].set_ylabel('')\n",
        "sns.countplot('Survived', data=df_train, ax=ax[1])\n",
        "ax[1].set_title('Count plot - Survived')\n",
        "\n",
        "plt.show()"
      ],
      "metadata": {
        "id": "w-6F7iL15Pai"
      },
      "execution_count": null,
      "outputs": []
    },
    {
      "cell_type": "markdown",
      "source": [
        "- 안타깝게도 죽은 사람이 많습니다.\n",
        "- 38.4%가 살아남았습니다.\n",
        "- target label의 분포가 제법 균일(balanced)합니다. 불균일한 경우, 예를들어서 100중 1이 99, 0이 1개인 경우에는 만약 모델이 모든 것을 1이라 해도 정확도가 99%가 나오게 됩니다. 0을 찾는 문제라면 이 모델은 원하는 결과를 줄 수 없게 됩니다. 지금 문제에서는 그렇지 않으니 계속 진행하겠습니다."
      ],
      "metadata": {
        "id": "uh9iVrtS6epc"
      }
    },
    {
      "cell_type": "markdown",
      "source": [
        "#2. Exploratory data analysis"
      ],
      "metadata": {
        "id": "AJF4mfHW68lt"
      }
    },
    {
      "cell_type": "markdown",
      "source": [
        "- 이제 본격적으로 데이터 분석을 해보겠습니다. 데이터는 매우 많습니다. 이 많은 데이터 안에 숨겨진 사실을 찾기 위해선 적절한 시각화가 필요합니다.\n",
        "- 시각화 라이브러리는 matplotlib, seaborn, plotly 등이 있습니다. 특정 목적에 맞는 소스 코드를 정리해두어 필요할 때마다 참고하면 편합니다."
      ],
      "metadata": {
        "id": "kyOPIqQVCn6W"
      }
    },
    {
      "cell_type": "markdown",
      "source": [
        "##2.1 Pclass"
      ],
      "metadata": {
        "id": "S8I7rJ7A7oCK"
      }
    },
    {
      "cell_type": "markdown",
      "source": [
        "- 먼저 Pclass에 대해서 살펴보겠습니다. Pclass는 ordinal, 서수형 데이터입니다. 카테고리이면서, 순서가 있는 데이터 타입입니다.\n",
        "- 먼저 Pclass에 따른 생존률의 차이를 살펴보겠습니다. 엑셀의 피벗 차트와 유사한 작업을 하게 되는데, pandas dataframe에서는 groupby를 사용하면 쉽게 할 수 있습니다. 또한 pivot이라는 메소드도 있습니다.\n",
        "- 'Pclass', 'Survived' 를 가져온 후, pclass 로 묶습니다. 그러고 나면 각 pclass 마다 0, 1 이 count가 되는데, 이를 평균내면 각 pclass 별 생존률이 나옵니다.\n",
        "- 아래와 같이 count() 를 하면, 각 class 에 몇명이 있는 지 확인할 수 있으며, sum() 을 하면, 216 명중 생존한(survived=1)사람의 총합을 주게 됩니다."
      ],
      "metadata": {
        "id": "PfgJW-99CrFj"
      }
    },
    {
      "cell_type": "code",
      "source": [
        "df_train[['Pclass', 'Survived']].groupby(['Pclass'], as_index=True).count()"
      ],
      "metadata": {
        "id": "VG9SBErP6eFO"
      },
      "execution_count": null,
      "outputs": []
    },
    {
      "cell_type": "code",
      "source": [
        "df_train[['Pclass', 'Survived']].groupby(['Pclass'], as_index=True).sum()"
      ],
      "metadata": {
        "id": "ANS16Gko9Jhy"
      },
      "execution_count": null,
      "outputs": []
    },
    {
      "cell_type": "markdown",
      "source": [
        "- pandas의 crosstab을 사용하면 좀 더 위 과정을 수월하게 볼 수 있습니다."
      ],
      "metadata": {
        "id": "bCIDILUv9akb"
      }
    },
    {
      "cell_type": "code",
      "source": [
        "pd.crosstab(df_train['Pclass'], df_train['Survived'], margins=True).style.background_gradient(cmap='summer_r')"
      ],
      "metadata": {
        "id": "awcWgcCF9XVf"
      },
      "execution_count": null,
      "outputs": []
    },
    {
      "cell_type": "markdown",
      "source": [
        "- grouped 객체에 mean()을 하게 되면, 각 클래스별 생존률을 얻을 수 있습니다. class 1이면 아래와 같습니다.\n",
        "$${136\\over(80+136)}\\approx\n",
        " 0.63$$"
      ],
      "metadata": {
        "id": "D0mktUGU-Eyz"
      }
    },
    {
      "cell_type": "code",
      "source": [
        "df_train[['Pclass', 'Survived']].groupby(['Pclass'], as_index=True).mean().sort_values(by='Survived', ascending=False).plot.bar()"
      ],
      "metadata": {
        "id": "1W5likIR-qhe"
      },
      "execution_count": null,
      "outputs": []
    },
    {
      "cell_type": "markdown",
      "source": [
        "- 보다시피, Pclass가 좋을수록(1st) 생존률이 높은 것을 확인할 수 있습니다.\n",
        "- 좀 더 보기 쉽게 그래프를 그려보겠습니다. seaborn의 countplot을 이용하면, 특정 label에 따른 개수를 확인해볼 수 있습니다."
      ],
      "metadata": {
        "id": "qenhBdZF_Xz_"
      }
    },
    {
      "cell_type": "code",
      "source": [
        "y_position = 1.02\n",
        "f, ax = plt.subplots(1, 2, figsize=(18,8))\n",
        "\n",
        "df_train['Pclass'].value_counts().plot.bar(color=['#CD7F32','#FFDF00','#D3D3D3'], ax=ax[0])\n",
        "ax[0].set_title('Number of Passengers By Pclass', y=y_position)\n",
        "ax[0].set_ylabel('Count')\n",
        "\n",
        "sns.countplot('Pclass', hue='Survived', data=df_train, ax=ax[1])\n",
        "ax[1].set_title('Pclass: Survived vs Dead', y=y_position)\n",
        "\n",
        "plt.show()"
      ],
      "metadata": {
        "id": "wY3dIcNk_XT5"
      },
      "execution_count": null,
      "outputs": []
    },
    {
      "cell_type": "markdown",
      "source": [
        "- 클래스가 높을수록 생존 확률이 높은 것을 확인할 수 있습니다. Pclass 1, 2, 3 순서대로 63%, 48%, 25%입니다.\n",
        "- 우리는 생존에 Pclass가 큰 영향을 미친다고 생각해볼 수 있으며, 나중에 모델을 세울 때 이 feature를 사용하는 것이 좋을 것이라 판단할 수 있습니다."
      ],
      "metadata": {
        "id": "5KnAT4syBSGK"
      }
    },
    {
      "cell_type": "markdown",
      "source": [
        "##2.2 Sex"
      ],
      "metadata": {
        "id": "b-MYdrkMCFQ5"
      }
    },
    {
      "cell_type": "markdown",
      "source": [
        "- 이번에는 성별로 생존률이 어떻게 달라지는지 확인해보겠습니다.\n",
        "- 마찬가지로 pandas groupby와 seaborn countplot을 사용해서 시각화해봅시다."
      ],
      "metadata": {
        "id": "ED1XZdgbCWq0"
      }
    },
    {
      "cell_type": "code",
      "source": [
        "f, ax = plt.subplots(1, 2, figsize=(18,8))\n",
        "\n",
        "df_train[['Sex', 'Survived']].groupby(['Sex'], as_index=True).mean().plot.bar(ax=ax[0])\n",
        "ax[0].set_title('Survived vs Sex')\n",
        "\n",
        "sns.countplot('Sex', hue='Survived', data=df_train, ax=ax[1])\n",
        "ax[1].set_title('Sex: Survived vs Dead')\n",
        "\n",
        "plt.show()"
      ],
      "metadata": {
        "id": "2NcA1ChzCEtn"
      },
      "execution_count": null,
      "outputs": []
    },
    {
      "cell_type": "markdown",
      "source": [
        "- 보시다시피, 여자가 생존할 확률이 높습니다."
      ],
      "metadata": {
        "id": "LdaELNp_OIKc"
      }
    },
    {
      "cell_type": "code",
      "source": [
        "df_train[['Sex', 'Survived']].groupby(['Sex'], as_index=False).mean().sort_values(by='Survived', ascending=False)"
      ],
      "metadata": {
        "id": "vxwJIhYZOHks"
      },
      "execution_count": null,
      "outputs": []
    },
    {
      "cell_type": "code",
      "source": [
        "pd.crosstab(df_train['Sex'], df_train['Survived'], margins=True).style.background_gradient(cmap='summer_r')"
      ],
      "metadata": {
        "id": "yrwS98gUOfaQ"
      },
      "execution_count": null,
      "outputs": []
    },
    {
      "cell_type": "markdown",
      "source": [
        "- Pclass와 마찬가지로, Sex도 예측 모델에 쓰일 중요한 feature임을 알 수 있습니다."
      ],
      "metadata": {
        "id": "ZQYnfHMmO_7B"
      }
    },
    {
      "cell_type": "markdown",
      "source": [
        "##2.3 Both Sex and Pclass"
      ],
      "metadata": {
        "id": "cWtlcQdsPJbG"
      }
    },
    {
      "cell_type": "markdown",
      "source": [
        "- 이번에는 Sex, Pclass 두 가지에 관하여 생존이 어떻게 달라지는지 확인해 봅시다.\n",
        "- seaborn의 factorplot을 이용하면 손쉽게 3개의 차원으로 이루어진 그래프를 그릴 수 있습니다."
      ],
      "metadata": {
        "id": "PlzWQ1zXPKJL"
      }
    },
    {
      "cell_type": "code",
      "source": [
        "sns.factorplot('Pclass', 'Survived', hue='Sex', data=df_train, size=6, aspect=1.5)"
      ],
      "metadata": {
        "id": "e0PVN6vxOvcX"
      },
      "execution_count": null,
      "outputs": []
    },
    {
      "cell_type": "markdown",
      "source": [
        "- 모든 클래스에서 female이 살 확률이 male보다 높은 걸 알 수 있습니다.\n",
        "- 또한 남자, 여자 상관없이 클래스가 높을수록 살 확률이 높습니다.\n",
        "- 위 그래프는 hue 대신 column으로 하면 아래와 같아집니다."
      ],
      "metadata": {
        "id": "GrDayuTMP7yk"
      }
    },
    {
      "cell_type": "code",
      "source": [
        "sns.factorplot(x='Sex', y='Survived', col='Pclass', data=df_train, satureation=.5, size=9, aspect=1)"
      ],
      "metadata": {
        "id": "gkHHUNzaQIs_"
      },
      "execution_count": null,
      "outputs": []
    },
    {
      "cell_type": "markdown",
      "source": [
        "##2.4 Age"
      ],
      "metadata": {
        "id": "U2c8m-AeQwzG"
      }
    },
    {
      "cell_type": "markdown",
      "source": [
        "- 이번에는 Age feature를 살펴봅시다."
      ],
      "metadata": {
        "id": "SlJoYZ5sQ1pf"
      }
    },
    {
      "cell_type": "code",
      "source": [
        "print('제일 나이 많은 탑승객: {:.1f} Years'.format(df_train['Age'].max()))\n",
        "print('제일 어린 탑승객: {:.1f} Years'.format(df_train['Age'].min()))\n",
        "print('탑승객 평균 나이: {:.1f} Years'.format(df_train['Age'].mean()))"
      ],
      "metadata": {
        "id": "EuH9klldQ52c"
      },
      "execution_count": null,
      "outputs": []
    },
    {
      "cell_type": "markdown",
      "source": [
        "- 생존에 따른 Age의 histogram을 그려보겠습니다."
      ],
      "metadata": {
        "id": "jracRv5kRfX2"
      }
    },
    {
      "cell_type": "code",
      "source": [
        "fig, ax = plt.subplots(1, 1, figsize=(9,5))\n",
        "sns.kdeplot(df_train[df_train['Survived'] == 1]['Age'], ax=ax)\n",
        "sns.kdeplot(df_train[df_train['Survived'] == 0]['Age'], ax=ax)\n",
        "plt.legend(['Survived == 1', 'Survived == 0'])\n",
        "plt.show()"
      ],
      "metadata": {
        "id": "nU0RGMnCReW_"
      },
      "execution_count": null,
      "outputs": []
    },
    {
      "cell_type": "markdown",
      "source": [
        "- 보시다시피, 생존자 중 나이가 어린 경우가 많음을 볼 수 있습니다."
      ],
      "metadata": {
        "id": "c7HC0LtQSL4s"
      }
    },
    {
      "cell_type": "code",
      "source": [
        "# Age distribution within classes\n",
        "plt.figure(figsize=(8, 6))\n",
        "df_train['Age'][df_train['Pclass'] == 1].plot(kind='kde')\n",
        "df_train['Age'][df_train['Pclass'] == 2].plot(kind='kde')\n",
        "df_train['Age'][df_train['Pclass'] == 3].plot(kind='kde')\n",
        "\n",
        "plt.xlabel('Age')\n",
        "plt.title('Age Distribution within classes')\n",
        "plt.legend(['1st Class', '2nd Class', '3rd Class'])"
      ],
      "metadata": {
        "id": "8RdEmRg_SQLP"
      },
      "execution_count": null,
      "outputs": []
    },
    {
      "cell_type": "markdown",
      "source": [
        "- Class가 높을수록 나이 많은 사람의 비중이 커집니다.\n",
        "- 나이대가 변하면서 생존률이 어떻게 되는지 보려고 합니다.\n",
        "- 나이 범위를 점점 넓혀가며, 생존률이 어떻게 되는지 한 번 봅시다."
      ],
      "metadata": {
        "id": "f09A5Ny7Tnmp"
      }
    },
    {
      "cell_type": "code",
      "source": [
        "cummulate_survival_ratio = []\n",
        "for i in range(1, 80):\n",
        "  cummulate_survival_ratio.append(df_train[df_train['Age'] < i]['Survived'].sum() / len(df_train[df_train['Age'] < i]['Survived']))\n",
        "\n",
        "plt.figure(figsize=(7, 7))\n",
        "plt.plot(cummulate_survival_ratio)\n",
        "plt.title('Survival rate change depending on range of Age', y=1.02)\n",
        "plt.ylabel('Survival rate')\n",
        "plt.xlabel('Range of Age(0~x)')\n",
        "plt.show()"
      ],
      "metadata": {
        "id": "wPwdQk6STlcg"
      },
      "execution_count": null,
      "outputs": []
    },
    {
      "cell_type": "markdown",
      "source": [
        "- 보시다시피, 나이가 어릴수록 생존률이 확실히 높은 것을 확인할 수 있습니다.\n",
        "- 우리는 이 나이가 중요한 feature로 쓰일 수 있음을 확인했습니다."
      ],
      "metadata": {
        "id": "NPcpGZ6hVHy7"
      }
    },
    {
      "cell_type": "markdown",
      "source": [
        "##2.5 Pclass, Sex, Age"
      ],
      "metadata": {
        "id": "LjGov0L1VQtb"
      }
    },
    {
      "cell_type": "markdown",
      "source": [
        "- 지금까지 본 Sex, Pclass, Age, Survived 모두에 대해서 보고싶습니다. 이를 쉽게 그려주는 것이 seaborn의 violinplot입니다.\n",
        "- x축은 우리가 나눠서 보고싶어하는 case(여기선 Pclass, Sex)를 나타내고, y축은 보고싶어하는 distribution(Age)입니다."
      ],
      "metadata": {
        "id": "Qkw7NeaiVVHI"
      }
    },
    {
      "cell_type": "code",
      "source": [
        "f, ax = plt.subplots(1, 2, figsize=(18,8))\n",
        "sns.violinplot('Pclass', 'Age', hue='Survived', data=df_train, scale='count', split=True, ax=ax[0])\n",
        "ax[0].set_title('Pclass and Age vs Survived')\n",
        "ax[0].set_yticks(range(0,110,10))\n",
        "\n",
        "sns.violinplot('Sex', 'Age', hue='Survived', data=df_train, scale='count', split=True, ax=ax[1])\n",
        "ax[1].set_title('Sex and Age vs Survived')\n",
        "ax[1].set_yticks(range(0,110,10))\n",
        "plt.show()"
      ],
      "metadata": {
        "id": "m5TaCqjoVUnQ"
      },
      "execution_count": null,
      "outputs": []
    },
    {
      "cell_type": "markdown",
      "source": [
        "- 왼쪽 그림은 Pclass별로 Age의 distribution이 어떻게 다른지, 거기에 생존여부에 따라 구분한 그래프입니다.\n",
        "- 오른쪽 그림도 마찬가지로 Sex, 생존에 따른 distribution이 어떻게 다른지 보여주는 그래프입니다.\n",
        "- 생존만 봤을 때, 모든 클래스에서 나이가 어릴수록 생존을 많이 한 것을 볼 수 있습니다.\n",
        "- 오른쪽 그림에서 보면, 명확히 여자가 생존을 많이 한 것을 볼 수 있습니다.\n",
        "- 여성과 아이를 먼저 챙긴 것을 볼 수 있습니다."
      ],
      "metadata": {
        "id": "U0Woeni2bfoQ"
      }
    },
    {
      "cell_type": "markdown",
      "source": [
        "##2.6 Embarked"
      ],
      "metadata": {
        "id": "8HHnCipImlWB"
      }
    },
    {
      "cell_type": "markdown",
      "source": [
        "- Embarked는 탑승한 항구를 나타냅니다.\n",
        "- 위에서 해왔던 것과 비슷하게 탑승한 곳에 따른 생존률을 보겠습니다."
      ],
      "metadata": {
        "id": "bSmQUHB3mpUA"
      }
    },
    {
      "cell_type": "code",
      "source": [
        "f, ax = plt.subplots(1, 1, figsize=(7,7))\n",
        "df_train[['Embarked', 'Survived']].groupby(['Embarked'], as_index=True).mean().sort_values(by='Survived', ascending=False).plot.bar(ax=ax)"
      ],
      "metadata": {
        "id": "RUxyGXWWmk0o"
      },
      "execution_count": null,
      "outputs": []
    },
    {
      "cell_type": "markdown",
      "source": [
        "- 보시다시피, 조금의 차이는 있지만 생존률은 좀 비슷한 것 같습니다. 그래도 C가 제일 높군요.\n",
        "- 모델에 얼마나 큰 영향을 미칠지는 모르겠지만, 그래도 사용하겠습니다.\n",
        "- 사실, 모델을 만들고 나면 우리가 사용한 feature들이 얼마나 중요한 역할을 했는지 확인해볼 수 있습니다. 이는 추후에 모델을 만들고 난 다음에 살펴볼 것입니다.\n",
        "- 다른 feature로 split하여 한 번 살펴보겠습니다."
      ],
      "metadata": {
        "id": "DhT0cLITmBG6"
      }
    },
    {
      "cell_type": "code",
      "source": [
        "f, ax = plt.subplots(2, 2, figsize=(20, 15))\n",
        "\n",
        "sns.countplot('Embarked', data=df_train, ax=ax[0,0])\n",
        "ax[0,0].set_title('(1) No. Of Passengers Boarded')\n",
        "sns.countplot('Embarked', hue='Sex', data=df_train, ax=ax[0,1])\n",
        "ax[0,1].set_title('(2) Male-Female Split for Embarked')\n",
        "sns.countplot('Embarked', hue='Survived', data=df_train, ax=ax[1,0])\n",
        "ax[1,0].set_title('(3) Embarked vs Survived')\n",
        "sns.countplot('Embarked', hue='Pclass', data=df_train, ax=ax[1,1])\n",
        "ax[1,1].set_title('(4) Embarked vs Pclass')\n",
        "\n",
        "plt.subplots_adjust(wspace=0.2, hspace=0.5)\n",
        "plt.show()"
      ],
      "metadata": {
        "id": "EeYB0vy5mWIn"
      },
      "execution_count": null,
      "outputs": []
    },
    {
      "cell_type": "markdown",
      "source": [
        "- Figure (1) - 전체적으로 봤을 때, S에서 가장 많은 사람이 탑승했습니다.\n",
        "- Figure (2) - C와 Q는 남녀의 비율이 비슷하고, S는 남자가 더 많습니다.\n",
        "- Figure (3) - 생존확률이 S의 경우 많이 낮은 것을 볼 수 있습니다.(이전 그래프에서 봤었습니다.)\n",
        "- Figure (4) - Class로 split해서 보니, C가 생존확률이 높은건 클래스가 높은 사람이 많이 타서 그렇습니다. S는 3rd class가 많아서 생존확률이 낮게 나옵니다."
      ],
      "metadata": {
        "id": "990sIwLOn7Is"
      }
    },
    {
      "cell_type": "markdown",
      "source": [
        "##2.7 Family - Sibsp(형제자매)+Parch(부모자녀)"
      ],
      "metadata": {
        "id": "vv6RGri3oaac"
      }
    },
    {
      "cell_type": "markdown",
      "source": [
        "- SibSp와 Parch를 합하면 Family가 될 것입니다. Family로 합쳐서 분석해봅시다."
      ],
      "metadata": {
        "id": "W37MijG_olrC"
      }
    },
    {
      "cell_type": "code",
      "source": [
        "df_train['FamilySize'] = df_train['SibSp'] + df_train['Parch'] + 1 #자신을 포함해야 하니 1을 더합니다.\n",
        "df_test['FamilySize'] = df_test['SibSp'] + df_test['Parch'] + 1 #자신을 포함해야 하니 1을 더합니다."
      ],
      "metadata": {
        "id": "XF8S9MTGoweN"
      },
      "execution_count": null,
      "outputs": []
    },
    {
      "cell_type": "code",
      "source": [
        "print(\"Maximum size of Family: \", df_train['FamilySize'].max())\n",
        "print(\"Minimum size of Family: \", df_train['FamilySize'].min())"
      ],
      "metadata": {
        "id": "ysme1O6StALg"
      },
      "execution_count": null,
      "outputs": []
    },
    {
      "cell_type": "markdown",
      "source": [
        "- FamilySize와 생존의 관계를 한번 살펴봅시다."
      ],
      "metadata": {
        "id": "FjIpQbJ2uOUK"
      }
    },
    {
      "cell_type": "code",
      "source": [
        "f, ax = plt.subplots(1, 3, figsize=(40, 10))\n",
        "\n",
        "sns.countplot('FamilySize', data = df_train, ax=ax[0])\n",
        "ax[0].set_title('(1) No. Of Passengers Boarded', y=1.02)\n",
        "sns.countplot('FamilySize', hue='Survived', data=df_train, ax=ax[1])\n",
        "ax[1].set_title('(2) Survived countplot depending on FamilySize', y=1.02)\n",
        "df_train[['FamilySize', 'Survived']].groupby(['FamilySize'], as_index=True).mean().sort_values(by='Survived', ascending=False).plot.bar(ax=ax[2])\n",
        "ax[2].set_title('(3) Survived rate depending on FamilySize', y=1.02)\n",
        "\n",
        "plt.subplots_adjust(wspace=0.2, hspace=0.5)\n",
        "plt.show()"
      ],
      "metadata": {
        "id": "enxKcPdluVGf"
      },
      "execution_count": null,
      "outputs": []
    },
    {
      "cell_type": "markdown",
      "source": [
        "- FIgure (1) - 가족크기가 1~11까지 있음을 볼 수 있습니다. 대부분 1명이고 그 다음으로 2, 3, 4명입니다.\n",
        "- Figure (2), (3) - 가족 크기에 따른 생존비교입니다. 가족이 4명인 경우가 가장 생존확률이 높습니다. 가족수가 많아질수록(5,6,7,8,11) 생존확률이 낮아지네요. 가족수가 너무 작아도(1), 너무 커도(5,6,8,11) 생존확률이 작네요. 3-4명 선에서 생존확률이 높은 것을 확인할 수 있습니다."
      ],
      "metadata": {
        "id": "T5nl0Qy3xAWH"
      }
    },
    {
      "cell_type": "markdown",
      "source": [
        "##2.8 Fare"
      ],
      "metadata": {
        "id": "RTU_IMRiy0GE"
      }
    },
    {
      "cell_type": "markdown",
      "source": [
        "- Fare는 탑승요금이며, continous feature입니다. 한번 histogram을 그려보겠습니다."
      ],
      "metadata": {
        "id": "nKIsqE1Uy5kW"
      }
    },
    {
      "cell_type": "code",
      "source": [
        "fig, ax = plt.subplots(1, 1, figsize=(8, 8))\n",
        "g = sns.distplot(df_train['Fare'], color='b', label='Skewness : {:.2f}'.format(df_train['Fare'].skew()), ax=ax)\n",
        "g = g.legend(loc='best')"
      ],
      "metadata": {
        "id": "C_68X5xHyrSk"
      },
      "execution_count": null,
      "outputs": []
    },
    {
      "cell_type": "markdown",
      "source": [
        "- 보시다시피, distribution이 매우 비대칭인 것을 알 수 있습니다(high skewness). 만약 이대로 모델에 넣어준다면 자칫 모델이 잘못 학습할 수도 있습니다. 몇 개 없는 outlier에 대해서 너무 민감하게 반응한다면, 실제 예측 시에 좋지 못한 결과를 부를 수 있습니다.\n",
        "- outlier의 영향을 줄이기 위해 Fare에 log를 취하겠습니다.\n",
        "- 여기서 우리는 pandas의 유용한 기능을 사용할겁니다. dataframe의 특정 columns에 공통된 작업(함수)를 적용하고 싶으면 아래의 map, 또는 apply를 사용하면 매우 손쉽게 적용할 수 있습니다.\n",
        "- 우리가 지금 원하는 것은 Fare columns의 데이터 모두를 log값 취하는 것인데, 파이썬의 간단한 lambda 함수를 이용해 간단한 로그를 적용하는 함수를 map에 인수로 넣어주면, Fare columns 데이터에 그대로 적용이 됩니다. 매우 유용한 기능이니 꼭 숙지하세요!"
      ],
      "metadata": {
        "id": "9zIaHi6GAH2Z"
      }
    },
    {
      "cell_type": "code",
      "source": [
        "df_test.loc[df_test.Fare.isnull(), 'Fare'] = df_test['Fare'].mean() # testset에 있는 nan value를 평균값으로 치환합니다.\n",
        "\n",
        "df_train['Fare'] = df_train['Fare'].map(lambda i: np.log(i) if i>0 else 0)\n",
        "df_test['Fare'] = df_test['Fare'].map(lambda i: np.log(i) if i>0 else 0)"
      ],
      "metadata": {
        "id": "AeUjBQ9Wz2qj"
      },
      "execution_count": null,
      "outputs": []
    },
    {
      "cell_type": "code",
      "source": [
        "fig, ax = plt.subplots(1, 1, figsize=(8,8))\n",
        "g = sns.distplot(df_train['Fare'], color='b', label='Skewness : {:.2f}'.format(df_train['Fare'].skew()), ax=ax)\n",
        "g = g.legend(loc='best')"
      ],
      "metadata": {
        "id": "YW9tom5OCaQc"
      },
      "execution_count": null,
      "outputs": []
    },
    {
      "cell_type": "markdown",
      "source": [
        "- log를 취하니, 이제 비대칭성이 많이 사라진 것을 볼 수 있습니다.\n",
        "- 우리는 이런 작업을 사용해 모델이 좀 더 좋은 성능을 내도록 할 수 있습니다.\n",
        "- 사실 방금 한 것은 feature engineering에 들어가는 부분인데, 여기서 작업했습니다.\n",
        "- 모델을 학습시키기 위해, 그리고 그 모델의 성능을 높이기 위해 feature들에 여러 조작을 가하거나, 새로운 feature를 추가하는 것을 feature engineering이라고 하는데, 우리는 이제 그것을 살펴볼 것입니다."
      ],
      "metadata": {
        "id": "OyYQ-8J1CyS-"
      }
    },
    {
      "cell_type": "markdown",
      "source": [
        "##2.9 Cabin"
      ],
      "metadata": {
        "id": "sjPgQJRuDLXy"
      }
    },
    {
      "cell_type": "markdown",
      "source": [
        "- 이 feature는 NaN이 대략 80%이므로, 생존에 영향을 미칠 중요한 정보를 얻어내기가 쉽지는 않습니다.\n",
        "- 그러므로 우리가 세우려는 모델에 포함시키지 않도록 하겠습니다."
      ],
      "metadata": {
        "id": "reja5lLxDL41"
      }
    },
    {
      "cell_type": "code",
      "source": [
        "df_train.head()"
      ],
      "metadata": {
        "id": "3qWc9LTQCx4M"
      },
      "execution_count": null,
      "outputs": []
    },
    {
      "cell_type": "markdown",
      "source": [
        "##2.10 Ticket"
      ],
      "metadata": {
        "id": "ei07EOgtJtnn"
      }
    },
    {
      "cell_type": "markdown",
      "source": [
        "- 이 feature는 NaN은 없습니다. 일단 string data이므로 우리가 어떤 작업들을 해주어야 실제 모델에 사용할 수 있는데, 이를 위해선 사실 아이디어가 필요합니다."
      ],
      "metadata": {
        "id": "mJ63m_xuJxmi"
      }
    },
    {
      "cell_type": "code",
      "source": [
        "df_train['Ticket'].value_counts()"
      ],
      "metadata": {
        "id": "G6bEoFljJ9MJ"
      },
      "execution_count": null,
      "outputs": []
    },
    {
      "cell_type": "markdown",
      "source": [
        "- 보시다시피, ticket number는 매우 다양합니다. 우리는 여기서 어떤 특징을 이끌어내서 생존과 연결시킬 수 있을까요?\n",
        "- 여러분이 직접 한번 아이디어를 내보세요! 이것이 본격적인 캐글 레이스의 시작점입니다^^\n",
        "- 이 튜토리얼에서는 튜토리얼이니 일단 ticket은 넘기도록 하겠습니다. 튜토리얼을 끝낸 후, 여러분의 모델의 성능을 향상시키기 위해 ticket에서 정보를 이끌어내는 것도 좋겠네요!"
      ],
      "metadata": {
        "id": "ODt0gmC8KxPb"
      }
    }
  ]
}