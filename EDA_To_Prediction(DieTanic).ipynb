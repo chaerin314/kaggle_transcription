{
  "nbformat": 4,
  "nbformat_minor": 0,
  "metadata": {
    "colab": {
      "name": "EDA_To_Prediction(DieTanic).ipynb",
      "private_outputs": true,
      "provenance": [],
      "collapsed_sections": [],
      "authorship_tag": "ABX9TyNkiDyk+i6HL9oYzUJKz6yy",
      "include_colab_link": true
    },
    "kernelspec": {
      "name": "python3",
      "display_name": "Python 3"
    },
    "language_info": {
      "name": "python"
    }
  },
  "cells": [
    {
      "cell_type": "markdown",
      "metadata": {
        "id": "view-in-github",
        "colab_type": "text"
      },
      "source": [
        "<a href=\"https://colab.research.google.com/github/chaerin314/kaggle_transcription/blob/main/EDA_To_Prediction(DieTanic).ipynb\" target=\"_parent\"><img src=\"https://colab.research.google.com/assets/colab-badge.svg\" alt=\"Open In Colab\"/></a>"
      ]
    },
    {
      "cell_type": "markdown",
      "source": [
        "The sinking of the Titanic is one of the most infamous shipwrecks in history. On April 15, 1912, during her maiden voyage, the Titanic sank after colliding with an iceberg, killing 1502 out of 2224 passengers and crew. That's why the name DieTanic. This is a very unforgetable disaster that no one in the world can forget.\n",
        "\n",
        "It took about $7.5 million to build the Titanic and it sunk under the ocean due to collision. The Titanic Dataset is a very good dataset for begineers to start a journey in data science and participate in competitions in Kaggle.\n",
        "\n",
        "The Objective of this notebook is to give an idea how is the workflow in any predictive modeling problem. How do we check features, how do we add new features and some Machine Learning Concepts. I have tried to keep the notebook as basic as possible so that even newbies can understand every phase of it.\n",
        "\n",
        "If You Like the notebook and think that it helped you..PLEASE UPVOTE. It will keep me motivated."
      ],
      "metadata": {
        "id": "VcnzxBBILru_"
      }
    },
    {
      "cell_type": "markdown",
      "source": [
        "**Contents of the Notebook:**\n",
        "\n",
        "**Part1: Exploratory Data Analysis(EDA):**\n",
        "\n",
        "1)Analysis of the features.\n",
        "\n",
        "2)Finding any relations or trends considering multiple features.\n",
        "\n",
        "**Part2: Feature Engineering and Data cleaning:**\n",
        "\n",
        "1)Adding any few features.\n",
        "\n",
        "2)Removing redundant features.\n",
        "\n",
        "3)Converting features into suitable form for modeling.\n",
        "\n",
        "**Part3: Predictive Modeling**\n",
        "\n",
        "1)Running Basic Algorithms.\n",
        "\n",
        "2)Cross Validation.\n",
        "\n",
        "3)Ensembling.\n",
        "\n",
        "4)Important Features Extraction."
      ],
      "metadata": {
        "id": "vA6VEA7AQnIa"
      }
    },
    {
      "cell_type": "markdown",
      "source": [
        "#Part1: Exploratory Data Analysis(EDA)"
      ],
      "metadata": {
        "id": "A28Ku3kBRWcj"
      }
    },
    {
      "cell_type": "code",
      "source": [
        "import numpy as np\n",
        "import pandas as pd\n",
        "import matplotlib.pyplot as plt\n",
        "import seaborn as sns\n",
        "plt.style.use('fivethirtyeight')\n",
        "import warnings\n",
        "warnings.filterwarnings('ignore')\n",
        "%matplotlib inline"
      ],
      "metadata": {
        "id": "-OcR5EQBRGuR"
      },
      "execution_count": null,
      "outputs": []
    },
    {
      "cell_type": "code",
      "source": [
        "from google.colab import drive\n",
        "drive.mount('/content/drive')\n",
        "!mkdir -p ~/.kaggle\n",
        "!cp /content/drive/MyDrive/kaggle_transcription/kaggle.json ~/.kaggle\n",
        "!chmod 600 ~/.kaggle/kaggle.json\n",
        "!kaggle competitions download -c titanic\n",
        "!unzip titanic.zip\n",
        "!rm titanic.zip"
      ],
      "metadata": {
        "id": "v4omQN5kSjnU"
      },
      "execution_count": null,
      "outputs": []
    },
    {
      "cell_type": "code",
      "source": [
        "data = pd.read_csv('/content/train.csv')"
      ],
      "metadata": {
        "id": "7VZcIwGzR5Zv"
      },
      "execution_count": null,
      "outputs": []
    },
    {
      "cell_type": "code",
      "source": [
        "data.head()"
      ],
      "metadata": {
        "id": "FUsgIs0DT2XT"
      },
      "execution_count": null,
      "outputs": []
    },
    {
      "cell_type": "code",
      "source": [
        "data.isnull().sum() #checking for total null values"
      ],
      "metadata": {
        "id": "zGGqwIM7UDb0"
      },
      "execution_count": null,
      "outputs": []
    },
    {
      "cell_type": "markdown",
      "source": [
        "The **Age**, **Cabin** and **Embarked** have null values. I will try to fix them."
      ],
      "metadata": {
        "id": "CBawWLUcUNwX"
      }
    },
    {
      "cell_type": "markdown",
      "source": [
        "How many Survived??"
      ],
      "metadata": {
        "id": "5BW0MD0hUchQ"
      }
    },
    {
      "cell_type": "code",
      "source": [
        "f, ax = plt.subplots(1, 2, figsize=(18, 8))\n",
        "\n",
        "data['Survived'].value_counts().plot.pie(explode=[0,0.1], autopct='%1.1f%%', ax=ax[0], shadow=True)\n",
        "ax[0].set_title('Survived')\n",
        "ax[0].set_ylabel('')\n",
        "sns.countplot('Survived', data=data, ax=ax[1])\n",
        "ax[1].set_title('Survived')\n",
        "\n",
        "plt.show()"
      ],
      "metadata": {
        "id": "n0Tuyg4hUa1G"
      },
      "execution_count": null,
      "outputs": []
    },
    {
      "cell_type": "markdown",
      "source": [
        "It is evident that not many passengers survived the accident.\n",
        "\n",
        "Out of 891 passengers in training set, only around 350 survived i.e Only 38.4% of the total training set survived the crash. We need to dig down more to get better insights from the data and see which categories of the passengers did survive and who didn't.\n",
        "\n",
        "We will try to check the survival rate by using the different features of the dataset. Some of the features being Sex, Port Of Embarcation, Age,etc.\n",
        "\n",
        "First let us understand the different types of features."
      ],
      "metadata": {
        "id": "peR_VPTNVX-D"
      }
    },
    {
      "cell_type": "markdown",
      "source": [
        "##Type of Features"
      ],
      "metadata": {
        "id": "tJ4k4kIq_TSd"
      }
    },
    {
      "cell_type": "markdown",
      "source": [
        "**Categorical Features:** (범주형 데이터)\n",
        "\n",
        "A categorical variable is one that has two or more categories and each value in that feature can be categorised by them.For example, gender is a categorical variable having two categories (male and female). Now we cannot sort or give any ordering to such variables. They are also known as Nominal Variables.\n",
        "\n",
        "Categorical Features in the dataset: Sex,Embarked.\n",
        "\n",
        "**Ordinal Features:** (서수형 데이터)\n",
        "\n",
        "An ordinal variable is similar to categorical values, but the difference between them is that we can have relative ordering or sorting between the values. For eg: If we have a feature like Height with values Tall, Medium, Short, then Height is a ordinal variable. Here we can have a relative sort in the variable.\n",
        "\n",
        "Ordinal Features in the dataset: PClass\n",
        "\n",
        "**Continous Feature:** (연속형 데이터)\n",
        "\n",
        "A feature is said to be continous if it can take values between any two points or between the minimum or maximum values in the features column.\n",
        "\n",
        "Continous Features in the dataset: Age"
      ],
      "metadata": {
        "id": "HajAi_Kr_b6p"
      }
    },
    {
      "cell_type": "markdown",
      "source": [
        "##Analysing The Features"
      ],
      "metadata": {
        "id": "lJanQ59e_5Y9"
      }
    },
    {
      "cell_type": "markdown",
      "source": [
        "###Sex → Categorical Feature"
      ],
      "metadata": {
        "id": "Y7SHTZ1v_7RS"
      }
    },
    {
      "cell_type": "code",
      "source": [
        "data.groupby(['Sex','Survived'])['Survived'].count()"
      ],
      "metadata": {
        "id": "Zg9sDmaoUL6w"
      },
      "execution_count": null,
      "outputs": []
    },
    {
      "cell_type": "code",
      "source": [
        ""
      ],
      "metadata": {
        "id": "GRo37MUINkiJ"
      },
      "execution_count": null,
      "outputs": []
    }
  ]
}