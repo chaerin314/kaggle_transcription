{
  "nbformat": 4,
  "nbformat_minor": 0,
  "metadata": {
    "colab": {
      "name": "Titanic_Top_4%_with_ensemble_modeling.ipynb",
      "private_outputs": true,
      "provenance": [],
      "collapsed_sections": [],
      "authorship_tag": "ABX9TyPgPGyrZBhqGsSNujTfKt4S",
      "include_colab_link": true
    },
    "kernelspec": {
      "name": "python3",
      "display_name": "Python 3"
    },
    "language_info": {
      "name": "python"
    }
  },
  "cells": [
    {
      "cell_type": "markdown",
      "metadata": {
        "id": "view-in-github",
        "colab_type": "text"
      },
      "source": [
        "<a href=\"https://colab.research.google.com/github/chaerin314/kaggle_transcription/blob/main/Titanic_Top_4__with_ensemble_modeling.ipynb\" target=\"_parent\"><img src=\"https://colab.research.google.com/assets/colab-badge.svg\" alt=\"Open In Colab\"/></a>"
      ]
    },
    {
      "cell_type": "markdown",
      "source": [
        "#1. Introduction"
      ],
      "metadata": {
        "id": "NgyWueH_7n9U"
      }
    },
    {
      "cell_type": "markdown",
      "source": [
        "This is my first kernel at Kaggle. I choosed the Titanic competition which is a good way to introduce feature engineering and ensemble modeling. Firstly, I will display some feature analyses then ill focus on the feature engineering. Last part concerns modeling and predicting the survival on the Titanic using an voting procedure.\n",
        "\n",
        "This script follows three main parts:\n",
        "\n",
        "Feature analysis\n",
        "Feature engineering\n",
        "Modeling\n"
      ],
      "metadata": {
        "id": "QTmZlguHT4co"
      }
    },
    {
      "cell_type": "code",
      "execution_count": null,
      "metadata": {
        "id": "IEfiADB1QphD"
      },
      "outputs": [],
      "source": [
        "import pandas as pd\n",
        "import numpy as np\n",
        "import matplotlib.pyplot as plt\n",
        "import seaborn as sns\n",
        "%matplotlib inline\n",
        "\n",
        "from collections import Counter\n",
        "\n",
        "from sklearn.ensemble import RandomForestClassifier, AdaBoostClassifier, GradientBoostingClassifier, ExtraTreesClassifier, VotingClassifier\n",
        "from sklearn.discriminant_analysis import LinearDiscriminantAnalysis\n",
        "from sklearn.linear_model import LogisticRegression\n",
        "from sklearn.neighbors import KNeighborsClassifier\n",
        "from sklearn.tree import DecisionTreeClassifier\n",
        "from sklearn.neural_network import MLPClassifier\n",
        "from sklearn.svm import SVC\n",
        "from sklearn.model_selection import GridSearchCV, cross_val_score, StratifiedKFold, learning_curve\n",
        "\n",
        "sns.set(style='white', context='notebook', palette='deep')"
      ]
    },
    {
      "cell_type": "markdown",
      "source": [
        "#2. Load and check data"
      ],
      "metadata": {
        "id": "0YsSYBePUHZt"
      }
    },
    {
      "cell_type": "markdown",
      "source": [
        "##2.1 Load data"
      ],
      "metadata": {
        "id": "71f8dwS37vXW"
      }
    },
    {
      "cell_type": "code",
      "source": [
        "from google.colab import drive\n",
        "drive.mount('/content/drive')\n",
        "!mkdir -p ~/.kaggle\n",
        "!cp /content/drive/MyDrive/kaggle_transcription/kaggle.json ~/.kaggle\n",
        "!chmod 600 ~/.kaggle/kaggle.json\n",
        "!kaggle competitions download -c titanic\n",
        "!unzip titanic.zip\n",
        "!rm titanic.zip"
      ],
      "metadata": {
        "id": "3eMK8Cx7br72"
      },
      "execution_count": null,
      "outputs": []
    },
    {
      "cell_type": "code",
      "source": [
        "# Load data\n",
        "##### Load train and Test set\n",
        "\n",
        "train = pd.read_csv('/content/train.csv')\n",
        "test = pd.read_csv('/content/test.csv')\n",
        "IDtest = test[\"PassengerId\"]"
      ],
      "metadata": {
        "id": "-SqQy_K5UCxf"
      },
      "execution_count": null,
      "outputs": []
    },
    {
      "cell_type": "markdown",
      "source": [
        "##2.2 Outlier detection"
      ],
      "metadata": {
        "id": "W6xH9uz4cJAO"
      }
    },
    {
      "cell_type": "code",
      "source": [
        "# Outlier detection \n",
        "\n",
        "def detect_outliers(df,n,features):\n",
        "    \"\"\"\n",
        "    Takes a dataframe df of features and returns a list of the indices\n",
        "    corresponding to the observations containing more than n outliers according\n",
        "    to the Tukey method.\n",
        "    \"\"\"\n",
        "    outlier_indices = []\n",
        "    \n",
        "    # iterate over features(columns)\n",
        "    for col in features:\n",
        "        # 1st quartile (25%)\n",
        "        Q1 = np.percentile(df[col], 25)\n",
        "        # 3rd quartile (75%)\n",
        "        Q3 = np.percentile(df[col],75)\n",
        "        # Interquartile range (IQR)\n",
        "        IQR = Q3 - Q1\n",
        "        \n",
        "        # outlier step\n",
        "        outlier_step = 1.5 * IQR\n",
        "        \n",
        "        # Determine a list of indices of outliers for feature col\n",
        "        outlier_list_col = df[(df[col] < Q1 - outlier_step) | (df[col] > Q3 + outlier_step )].index\n",
        "        \n",
        "        # append the found outlier indices for col to the list of outlier indices \n",
        "        outlier_indices.extend(outlier_list_col)\n",
        "        \n",
        "    # select observations containing more than 2 outliers\n",
        "    outlier_indices = Counter(outlier_indices)        \n",
        "    multiple_outliers = list( k for k, v in outlier_indices.items() if v > n )\n",
        "    \n",
        "    return multiple_outliers   \n",
        "\n",
        "# detect outliers from Age, SibSp , Parch and Fare\n",
        "Outliers_to_drop = detect_outliers(train,2,[\"Age\",\"SibSp\",\"Parch\",\"Fare\"])"
      ],
      "metadata": {
        "id": "mInBhEiWcJne"
      },
      "execution_count": null,
      "outputs": []
    },
    {
      "cell_type": "markdown",
      "source": [
        "Since outliers can have a dramatic effect on the prediction (espacially for regression problems), i choosed to manage them.\n",
        "\n",
        "I used the Tukey method (Tukey JW., 1977) to detect ouliers which defines an interquartile range comprised between the 1st and 3rd quartile of the distribution values (IQR). An outlier is a row that have a feature value outside the (IQR +- an outlier step).\n",
        "\n",
        "I decided to detect outliers from the numerical values features (Age, SibSp, Sarch and Fare). Then, i considered outliers as rows that have at least two outlied numerical values."
      ],
      "metadata": {
        "id": "iOvHft90cTWA"
      }
    },
    {
      "cell_type": "code",
      "source": [
        "train.loc[Outliers_to_drop] # Show the outliers rows"
      ],
      "metadata": {
        "id": "qTMfbhQBcULj"
      },
      "execution_count": null,
      "outputs": []
    },
    {
      "cell_type": "markdown",
      "source": [
        "We detect 10 outliers. The 28, 89 and 342 passenger have an high Ticket Fare\n",
        "\n",
        "The 7 others have very high values of SibSP."
      ],
      "metadata": {
        "id": "sIBpHkHKcZcM"
      }
    },
    {
      "cell_type": "code",
      "source": [
        "# Drop outliers\n",
        "train = train.drop(Outliers_to_drop, axis = 0).reset_index(drop=True)"
      ],
      "metadata": {
        "id": "6Y_N7_yTcZHI"
      },
      "execution_count": null,
      "outputs": []
    },
    {
      "cell_type": "markdown",
      "source": [
        "##2.3 joining train and test set"
      ],
      "metadata": {
        "id": "sd8yUUfkcdff"
      }
    },
    {
      "cell_type": "code",
      "source": [
        "## Join train and test datasets in order to obtain the same number of features during categorical conversion\n",
        "train_len = len(train)\n",
        "dataset =  pd.concat(objs=[train, test], axis=0).reset_index(drop=True)"
      ],
      "metadata": {
        "id": "DV17tkW5cd8d"
      },
      "execution_count": null,
      "outputs": []
    },
    {
      "cell_type": "markdown",
      "source": [
        "I join train and test datasets to obtain the same number of features during categorical conversion (See feature engineering)."
      ],
      "metadata": {
        "id": "7eqW1rQCckDw"
      }
    },
    {
      "cell_type": "markdown",
      "source": [
        "##2.4 check for null and missing values"
      ],
      "metadata": {
        "id": "gl22LsEjcn8C"
      }
    },
    {
      "cell_type": "code",
      "source": [
        "# Fill empty and NaNs values with NaN\n",
        "dataset = dataset.fillna(np.nan)\n",
        "\n",
        "# Check for Null values\n",
        "dataset.isnull().sum()"
      ],
      "metadata": {
        "id": "XUwdz-7zckuh"
      },
      "execution_count": null,
      "outputs": []
    },
    {
      "cell_type": "markdown",
      "source": [
        "Age and Cabin features have an important part of missing values.\n",
        "\n",
        "Survived missing values correspond to the join testing dataset (Survived column doesn't exist in test set and has been replace by NaN values when concatenating the train and test set)"
      ],
      "metadata": {
        "id": "XwIlg7ZscuEx"
      }
    },
    {
      "cell_type": "code",
      "source": [
        "# Infos\n",
        "train.info()\n",
        "train.isnull().sum()"
      ],
      "metadata": {
        "id": "6PZBAvk5cutc"
      },
      "execution_count": null,
      "outputs": []
    },
    {
      "cell_type": "code",
      "source": [
        "train.head()"
      ],
      "metadata": {
        "id": "wS0uqwqPcxqK"
      },
      "execution_count": null,
      "outputs": []
    },
    {
      "cell_type": "code",
      "source": [
        "train.dtypes"
      ],
      "metadata": {
        "id": "675POen6c03g"
      },
      "execution_count": null,
      "outputs": []
    },
    {
      "cell_type": "code",
      "source": [
        "### Summarize data\n",
        "# Summarie and statistics\n",
        "train.describe()"
      ],
      "metadata": {
        "id": "qA0oobStc2gQ"
      },
      "execution_count": null,
      "outputs": []
    },
    {
      "cell_type": "markdown",
      "source": [
        "#3. Feature analysis"
      ],
      "metadata": {
        "id": "v16dyCALc65g"
      }
    },
    {
      "cell_type": "markdown",
      "source": [
        "##3.1 Numerical values"
      ],
      "metadata": {
        "id": "mJBwS0uic7RC"
      }
    },
    {
      "cell_type": "code",
      "source": [
        "# Correlation matrix between numerical values (SibSp Parch Age and Fare values) and Survived \n",
        "g = sns.heatmap(train[[\"Survived\",\"SibSp\",\"Parch\",\"Age\",\"Fare\"]].corr(),annot=True, fmt = \".2f\", cmap = \"coolwarm\")"
      ],
      "metadata": {
        "id": "dWuXqwX4c9mk"
      },
      "execution_count": null,
      "outputs": []
    },
    {
      "cell_type": "markdown",
      "source": [
        "Only Fare feature seems to have a significative correlation with the survival probability.\n",
        "\n",
        "It doesn't mean that the other features are not usefull. Subpopulations in these features can be correlated with the survival. To determine this, we need to explore in detail these features"
      ],
      "metadata": {
        "id": "0dzLt1QMdA24"
      }
    },
    {
      "cell_type": "markdown",
      "source": [
        "SibSP"
      ],
      "metadata": {
        "id": "aj0k8ZyVdBS4"
      }
    },
    {
      "cell_type": "code",
      "source": [
        "# Explore SibSp feature vs Survived\n",
        "g = sns.factorplot(x=\"SibSp\",y=\"Survived\",data=train,kind=\"bar\", size = 6 , \n",
        "palette = \"muted\")\n",
        "g.despine(left=True)\n",
        "g = g.set_ylabels(\"survival probability\")"
      ],
      "metadata": {
        "id": "1yJQivbpdFs5"
      },
      "execution_count": null,
      "outputs": []
    },
    {
      "cell_type": "markdown",
      "source": [
        "It seems that passengers having a lot of siblings/spouses have less chance to survive\n",
        "\n",
        "Single passengers (0 SibSP) or with two other persons (SibSP 1 or 2) have more chance to survive\n",
        "\n",
        "This observation is quite interesting, we can consider a new feature describing these categories (See feature engineering)"
      ],
      "metadata": {
        "id": "Lhvf6CNGdNFI"
      }
    },
    {
      "cell_type": "markdown",
      "source": [
        "Parch"
      ],
      "metadata": {
        "id": "lrQe8sHDdMpA"
      }
    },
    {
      "cell_type": "code",
      "source": [
        "# Explore Parch feature vs Survived\n",
        "g  = sns.factorplot(x=\"Parch\",y=\"Survived\",data=train,kind=\"bar\", size = 6 , \n",
        "palette = \"muted\")\n",
        "g.despine(left=True)\n",
        "g = g.set_ylabels(\"survival probability\")"
      ],
      "metadata": {
        "id": "J5ll7XYxdIXW"
      },
      "execution_count": null,
      "outputs": []
    },
    {
      "cell_type": "markdown",
      "source": [
        "Small families have more chance to survive, more than single (Parch 0), medium (Parch 3,4) and large families (Parch 5,6 ).\n",
        "\n",
        "Be carefull there is an important standard deviation in the survival of passengers with 3 parents/children"
      ],
      "metadata": {
        "id": "9MBFtjOddZXx"
      }
    },
    {
      "cell_type": "markdown",
      "source": [
        "Age"
      ],
      "metadata": {
        "id": "zWZH_esEdaBi"
      }
    },
    {
      "cell_type": "code",
      "source": [
        "# Explore Age vs Survived\n",
        "g = sns.FacetGrid(train, col='Survived')\n",
        "g = g.map(sns.distplot, \"Age\")"
      ],
      "metadata": {
        "id": "poyX4q4NdbDi"
      },
      "execution_count": null,
      "outputs": []
    },
    {
      "cell_type": "markdown",
      "source": [
        "\n",
        "Age distribution seems to be a tailed distribution, maybe a gaussian distribution.\n",
        "\n",
        "We notice that age distributions are not the same in the survived and not survived subpopulations. Indeed, there is a peak corresponding to young passengers, that have survived. We also see that passengers between 60-80 have less survived.\n",
        "\n",
        "So, even if \"Age\" is not correlated with \"Survived\", we can see that there is age categories of passengers that of have more or less chance to survive.\n",
        "\n",
        "It seems that very young passengers have more chance to survive."
      ],
      "metadata": {
        "id": "XE0imcxddb8u"
      }
    },
    {
      "cell_type": "code",
      "source": [
        "# Explore Age distibution \n",
        "g = sns.kdeplot(train[\"Age\"][(train[\"Survived\"] == 0) & (train[\"Age\"].notnull())], color=\"Red\", shade = True)\n",
        "g = sns.kdeplot(train[\"Age\"][(train[\"Survived\"] == 1) & (train[\"Age\"].notnull())], ax =g, color=\"Blue\", shade= True)\n",
        "g.set_xlabel(\"Age\")\n",
        "g.set_ylabel(\"Frequency\")\n",
        "g = g.legend([\"Not Survived\",\"Survived\"])"
      ],
      "metadata": {
        "id": "mSlzn4Y3dgL0"
      },
      "execution_count": null,
      "outputs": []
    },
    {
      "cell_type": "markdown",
      "source": [
        "When we superimpose the two densities , we cleary see a peak correponsing (between 0 and 5) to babies and very young childrens."
      ],
      "metadata": {
        "id": "8S5ziJ9DdjEI"
      }
    },
    {
      "cell_type": "markdown",
      "source": [
        "Fare"
      ],
      "metadata": {
        "id": "bFrCsv-Udpp-"
      }
    },
    {
      "cell_type": "code",
      "source": [
        "dataset[\"Fare\"].isnull().sum()"
      ],
      "metadata": {
        "id": "qEfzv54edqKQ"
      },
      "execution_count": null,
      "outputs": []
    },
    {
      "cell_type": "code",
      "source": [
        "#Fill Fare missing values with the median value\n",
        "dataset[\"Fare\"] = dataset[\"Fare\"].fillna(dataset[\"Fare\"].median())"
      ],
      "metadata": {
        "id": "HyMnXVAqdsog"
      },
      "execution_count": null,
      "outputs": []
    },
    {
      "cell_type": "markdown",
      "source": [
        "Since we have one missing value , i decided to fill it with the median value which will not have an important effect on the prediction."
      ],
      "metadata": {
        "id": "ja5h4RXYd45D"
      }
    },
    {
      "cell_type": "code",
      "source": [
        "# Explore Fare distribution \n",
        "g = sns.distplot(dataset[\"Fare\"], color=\"m\", label=\"Skewness : %.2f\"%(dataset[\"Fare\"].skew()))\n",
        "g = g.legend(loc=\"best\")"
      ],
      "metadata": {
        "id": "38U2zTZtdtIt"
      },
      "execution_count": null,
      "outputs": []
    },
    {
      "cell_type": "markdown",
      "source": [
        "As we can see, Fare distribution is very skewed. This can lead to overweigth very high values in the model, even if it is scaled.\n",
        "\n",
        "In this case, it is better to transform it with the log function to reduce this skew."
      ],
      "metadata": {
        "id": "SwGIyUOtd96z"
      }
    },
    {
      "cell_type": "code",
      "source": [
        "# Apply log to Fare to reduce skewness distribution\n",
        "dataset[\"Fare\"] = dataset[\"Fare\"].map(lambda i: np.log(i) if i > 0 else 0)"
      ],
      "metadata": {
        "id": "Aq3D5vXTd-cW"
      },
      "execution_count": null,
      "outputs": []
    },
    {
      "cell_type": "code",
      "source": [
        "g = sns.distplot(dataset[\"Fare\"], color=\"b\", label=\"Skewness : %.2f\"%(dataset[\"Fare\"].skew()))\n",
        "g = g.legend(loc=\"best\")"
      ],
      "metadata": {
        "id": "Q65G2MmKeAZd"
      },
      "execution_count": null,
      "outputs": []
    },
    {
      "cell_type": "markdown",
      "source": [
        "Skewness is clearly reduced after the log transformation"
      ],
      "metadata": {
        "id": "joKvxbFjeFfl"
      }
    },
    {
      "cell_type": "markdown",
      "source": [
        "##3.2 Categorical values"
      ],
      "metadata": {
        "id": "muzZJFXceHK9"
      }
    },
    {
      "cell_type": "markdown",
      "source": [
        "Sex"
      ],
      "metadata": {
        "id": "S-ZMHwT-eLFr"
      }
    },
    {
      "cell_type": "code",
      "source": [
        "g = sns.barplot(x=\"Sex\",y=\"Survived\",data=train)\n",
        "g = g.set_ylabel(\"Survival Probability\")"
      ],
      "metadata": {
        "id": "qruxS5gbeKWr"
      },
      "execution_count": null,
      "outputs": []
    },
    {
      "cell_type": "code",
      "source": [
        "train[[\"Sex\",\"Survived\"]].groupby('Sex').mean()"
      ],
      "metadata": {
        "id": "XQXYJBw6eRjC"
      },
      "execution_count": null,
      "outputs": []
    },
    {
      "cell_type": "markdown",
      "source": [
        "It is clearly obvious that Male have less chance to survive than Female.\n",
        "\n",
        "So Sex, might play an important role in the prediction of the survival.\n",
        "\n",
        "For those who have seen the Titanic movie (1997), I am sure, we all remember this sentence during the evacuation : \"Women and children first\"."
      ],
      "metadata": {
        "id": "ZQungl_2eTuS"
      }
    },
    {
      "cell_type": "markdown",
      "source": [
        "Pclass"
      ],
      "metadata": {
        "id": "5tYiTJQyeWlf"
      }
    },
    {
      "cell_type": "code",
      "source": [
        "# Explore Pclass vs Survived\n",
        "g = sns.factorplot(x=\"Pclass\",y=\"Survived\",data=train,kind=\"bar\", size = 6 , \n",
        "palette = \"muted\")\n",
        "g.despine(left=True)\n",
        "g = g.set_ylabels(\"survival probability\")"
      ],
      "metadata": {
        "id": "Kz5sQ01neWM_"
      },
      "execution_count": null,
      "outputs": []
    },
    {
      "cell_type": "code",
      "source": [
        "# Explore Pclass vs Survived by Sex\n",
        "g = sns.factorplot(x=\"Pclass\", y=\"Survived\", hue=\"Sex\", data=train,\n",
        "                   size=6, kind=\"bar\", palette=\"muted\")\n",
        "g.despine(left=True)\n",
        "g = g.set_ylabels(\"survival probability\")"
      ],
      "metadata": {
        "id": "05Wk-w8See1a"
      },
      "execution_count": null,
      "outputs": []
    },
    {
      "cell_type": "markdown",
      "source": [
        "The passenger survival is not the same in the 3 classes. First class passengers have more chance to survive than second class and third class passengers.\n",
        "\n",
        "This trend is conserved when we look at both male and female passengers."
      ],
      "metadata": {
        "id": "KWZRB8FRei6v"
      }
    },
    {
      "cell_type": "markdown",
      "source": [
        "Embarked"
      ],
      "metadata": {
        "id": "9Yvb7M-Oejt_"
      }
    },
    {
      "cell_type": "code",
      "source": [
        "dataset[\"Embarked\"].isnull().sum()"
      ],
      "metadata": {
        "id": "SVwlK36-emOa"
      },
      "execution_count": null,
      "outputs": []
    },
    {
      "cell_type": "code",
      "source": [
        "#Fill Embarked nan values of dataset set with 'S' most frequent value\n",
        "dataset[\"Embarked\"] = dataset[\"Embarked\"].fillna(\"S\")"
      ],
      "metadata": {
        "id": "QyZr3lzneqrK"
      },
      "execution_count": null,
      "outputs": []
    },
    {
      "cell_type": "markdown",
      "source": [
        "Since we have two missing values, I decided to fill them with the most frequent value of \"Embarked\" (S)."
      ],
      "metadata": {
        "id": "Fz3ovZ3WfGP1"
      }
    },
    {
      "cell_type": "code",
      "source": [
        "# Explore Embarked vs Survived \n",
        "g = sns.factorplot(x=\"Embarked\", y=\"Survived\",  data=train,\n",
        "                   size=6, kind=\"bar\", palette=\"muted\")\n",
        "g.despine(left=True)\n",
        "g = g.set_ylabels(\"survival probability\")"
      ],
      "metadata": {
        "id": "W7kCkfeKfFnG"
      },
      "execution_count": null,
      "outputs": []
    },
    {
      "cell_type": "markdown",
      "source": [
        "It seems that passenger coming from Cherbourg (C) have more chance to survive.\n",
        "\n",
        "My hypothesis is that the proportion of first class passengers is higher for those who came from Cherbourg than Queenstown (Q), Southampton (S).\n",
        "\n",
        "Let's see the Pclass distribution vs Embarked"
      ],
      "metadata": {
        "id": "IMEm9-M-fZsN"
      }
    },
    {
      "cell_type": "code",
      "source": [
        "# Explore Pclass vs Embarked \n",
        "g = sns.factorplot(\"Pclass\", col=\"Embarked\",  data=train,\n",
        "                   size=6, kind=\"count\", palette=\"muted\")\n",
        "g.despine(left=True)\n",
        "g = g.set_ylabels(\"Count\")"
      ],
      "metadata": {
        "id": "BmGewbIWfb71"
      },
      "execution_count": null,
      "outputs": []
    },
    {
      "cell_type": "markdown",
      "source": [
        "Indeed, the third class is the most frequent for passenger coming from Southampton (S) and Queenstown (Q), whereas Cherbourg passengers are mostly in first class which have the highest survival rate.\n",
        "\n",
        "At this point, i can't explain why first class has an higher survival rate. My hypothesis is that first class passengers were prioritised during the evacuation due to their influence."
      ],
      "metadata": {
        "id": "v46ejUoZff2E"
      }
    },
    {
      "cell_type": "markdown",
      "source": [
        "#4. Filling missing Values"
      ],
      "metadata": {
        "id": "AhFwDuFZfi_6"
      }
    },
    {
      "cell_type": "markdown",
      "source": [
        "##4.1 Age"
      ],
      "metadata": {
        "id": "IYx3urapfnoi"
      }
    },
    {
      "cell_type": "markdown",
      "source": [
        "As we see, Age column contains 256 missing values in the whole dataset.\n",
        "\n",
        "Since there is subpopulations that have more chance to survive (children for example), it is preferable to keep the age feature and to impute the missing values.\n",
        "\n",
        "To adress this problem, i looked at the most correlated features with Age (Sex, Parch , Pclass and SibSP)."
      ],
      "metadata": {
        "id": "wGfUhcrLfpiP"
      }
    },
    {
      "cell_type": "code",
      "source": [
        "# Explore Age vs Sex, Parch , Pclass and SibSP\n",
        "g = sns.factorplot(y=\"Age\",x=\"Sex\",data=dataset,kind=\"box\")\n",
        "g = sns.factorplot(y=\"Age\",x=\"Sex\",hue=\"Pclass\", data=dataset,kind=\"box\")\n",
        "g = sns.factorplot(y=\"Age\",x=\"Parch\", data=dataset,kind=\"box\")\n",
        "g = sns.factorplot(y=\"Age\",x=\"SibSp\", data=dataset,kind=\"box\")"
      ],
      "metadata": {
        "id": "S4h-q7AmfeBu"
      },
      "execution_count": null,
      "outputs": []
    },
    {
      "cell_type": "markdown",
      "source": [
        "Age distribution seems to be the same in Male and Female subpopulations, so Sex is not informative to predict Age.\n",
        "\n",
        "However, 1rst class passengers are older than 2nd class passengers who are also older than 3rd class passengers.\n",
        "\n",
        "Moreover, the more a passenger has parents/children the older he is and the more a passenger has siblings/spouses the younger he is."
      ],
      "metadata": {
        "id": "LRbQXHFhf4Ny"
      }
    },
    {
      "cell_type": "code",
      "source": [
        "# convert Sex into categorical value 0 for male 1 for female\n",
        "dataset[\"Sex\"] = dataset[\"Sex\"].map({\"male\": 0, \"female\": 1})"
      ],
      "metadata": {
        "id": "mK-GMs4tf5Da"
      },
      "execution_count": null,
      "outputs": []
    },
    {
      "cell_type": "code",
      "source": [
        "g = sns.heatmap(dataset[[\"Age\",\"Sex\",\"SibSp\",\"Parch\",\"Pclass\"]].corr(), cmap=\"BrBG\", annot=True)"
      ],
      "metadata": {
        "id": "uwamSxdJgP8d"
      },
      "execution_count": null,
      "outputs": []
    },
    {
      "cell_type": "markdown",
      "source": [
        "The correlation map confirms the factorplots observations except for Parch. Age is not correlated with Sex, but is negatively correlated with Pclass, Parch and SibSp.\n",
        "\n",
        "In the plot of Age in function of Parch, Age is growing with the number of parents / children. But the general correlation is negative.\n",
        "\n",
        "So, i decided to use SibSP, Parch and Pclass in order to impute the missing ages.\n",
        "\n",
        "The strategy is to fill Age with the median age of similar rows according to Pclass, Parch and SibSp."
      ],
      "metadata": {
        "id": "6m3NkajlgrWB"
      }
    },
    {
      "cell_type": "code",
      "source": [
        "# Filling missing value of Age \n",
        "\n",
        "## Fill Age with the median age of similar rows according to Pclass, Parch and SibSp\n",
        "# Index of NaN age rows\n",
        "index_NaN_age = list(dataset[\"Age\"][dataset[\"Age\"].isnull()].index)\n",
        "\n",
        "for i in index_NaN_age :\n",
        "    age_med = dataset[\"Age\"].median()\n",
        "    age_pred = dataset[\"Age\"][((dataset['SibSp'] == dataset.iloc[i][\"SibSp\"]) & (dataset['Parch'] == dataset.iloc[i][\"Parch\"]) & (dataset['Pclass'] == dataset.iloc[i][\"Pclass\"]))].median()\n",
        "    if not np.isnan(age_pred) :\n",
        "        dataset['Age'].iloc[i] = age_pred\n",
        "    else :\n",
        "        dataset['Age'].iloc[i] = age_med"
      ],
      "metadata": {
        "id": "7X8L81VMgjAq"
      },
      "execution_count": null,
      "outputs": []
    },
    {
      "cell_type": "code",
      "source": [
        "g = sns.factorplot(x=\"Survived\", y = \"Age\",data = train, kind=\"box\")\n",
        "g = sns.factorplot(x=\"Survived\", y = \"Age\",data = train, kind=\"violin\")"
      ],
      "metadata": {
        "id": "JFfy0Z0Fg4cT"
      },
      "execution_count": null,
      "outputs": []
    },
    {
      "cell_type": "markdown",
      "source": [
        "No difference between median value of age in survived and not survived subpopulation.\n",
        "\n",
        "But in the violin plot of survived passengers, we still notice that very young passengers have higher survival rate."
      ],
      "metadata": {
        "id": "XpwkiRl9g-Hj"
      }
    },
    {
      "cell_type": "markdown",
      "source": [
        "#5. Feature engineering"
      ],
      "metadata": {
        "id": "WsLV9sSGhBCh"
      }
    },
    {
      "cell_type": "markdown",
      "source": [
        "##5.1 Name/Title"
      ],
      "metadata": {
        "id": "_q0sHcLphC_c"
      }
    },
    {
      "cell_type": "code",
      "source": [
        "dataset[\"Name\"].head()"
      ],
      "metadata": {
        "id": "I4bclg9GhGJg"
      },
      "execution_count": null,
      "outputs": []
    },
    {
      "cell_type": "markdown",
      "source": [
        "The Name feature contains information on passenger's title.\n",
        "\n",
        "Since some passenger with distingused title may be preferred during the evacuation, it is interesting to add them to the model."
      ],
      "metadata": {
        "id": "Uc4gnFrdhLmv"
      }
    },
    {
      "cell_type": "code",
      "source": [
        "# Get Title from Name\n",
        "dataset_title = [i.split(\",\")[1].split(\".\")[0].strip() for i in dataset[\"Name\"]]\n",
        "dataset[\"Title\"] = pd.Series(dataset_title)\n",
        "dataset[\"Title\"].head()"
      ],
      "metadata": {
        "id": "WhXMcBD_hQBV"
      },
      "execution_count": null,
      "outputs": []
    },
    {
      "cell_type": "code",
      "source": [
        "g = sns.countplot(x=\"Title\",data=dataset)\n",
        "g = plt.setp(g.get_xticklabels(), rotation=45)"
      ],
      "metadata": {
        "id": "IDfSVdUGhU0W"
      },
      "execution_count": null,
      "outputs": []
    },
    {
      "cell_type": "markdown",
      "source": [
        "There is 17 titles in the dataset, most of them are very rare and we can group them in 4 categories."
      ],
      "metadata": {
        "id": "_DfQkMOOhYIH"
      }
    },
    {
      "cell_type": "code",
      "source": [
        "# Convert to categorical values Title \n",
        "dataset[\"Title\"] = dataset[\"Title\"].replace(['Lady', 'the Countess','Countess','Capt', 'Col','Don', 'Dr', 'Major', 'Rev', 'Sir', 'Jonkheer', 'Dona'], 'Rare')\n",
        "dataset[\"Title\"] = dataset[\"Title\"].map({\"Master\":0, \"Miss\":1, \"Ms\" : 1 , \"Mme\":1, \"Mlle\":1, \"Mrs\":1, \"Mr\":2, \"Rare\":3})\n",
        "dataset[\"Title\"] = dataset[\"Title\"].astype(int)"
      ],
      "metadata": {
        "id": "HpXd6BIVhY9Y"
      },
      "execution_count": null,
      "outputs": []
    },
    {
      "cell_type": "code",
      "source": [
        "g = sns.countplot(dataset[\"Title\"])\n",
        "g = g.set_xticklabels([\"Master\",\"Miss/Ms/Mme/Mlle/Mrs\",\"Mr\",\"Rare\"])"
      ],
      "metadata": {
        "id": "Z76XddvaheJX"
      },
      "execution_count": null,
      "outputs": []
    },
    {
      "cell_type": "code",
      "source": [
        "g = sns.factorplot(x=\"Title\",y=\"Survived\",data=dataset,kind=\"bar\")\n",
        "g = g.set_xticklabels([\"Master\", \"Miss-Mrs\", \"Mr\", \"Rare\"])\n",
        "g = g.set_ylabels(\"survival probability\")"
      ],
      "metadata": {
        "id": "gWIzreCNhgC3"
      },
      "execution_count": null,
      "outputs": []
    },
    {
      "cell_type": "markdown",
      "source": [
        "\"Women and children first\"\n",
        "\n",
        "It is interesting to note that passengers with rare title have more chance to survive."
      ],
      "metadata": {
        "id": "UWNBIV8eh3dE"
      }
    },
    {
      "cell_type": "code",
      "source": [
        "# Drop Name variable\n",
        "dataset.drop(labels=[\"Name\"], axis=1, inplace=True)"
      ],
      "metadata": {
        "id": "P5FmUlc-h6BD"
      },
      "execution_count": null,
      "outputs": []
    },
    {
      "cell_type": "markdown",
      "source": [
        "##5.2 Family size"
      ],
      "metadata": {
        "id": "fw-gqJ0giI3F"
      }
    },
    {
      "cell_type": "markdown",
      "source": [
        "We can imagine that large families will have more difficulties to evacuate, looking for theirs sisters/brothers/parents during the evacuation. So, i choosed to create a \"Fize\" (family size) feature which is the sum of SibSp , Parch and 1 (including the passenger)."
      ],
      "metadata": {
        "id": "Pv0n0Kd5iMS2"
      }
    },
    {
      "cell_type": "code",
      "source": [
        "# Create a family size descriptor from SibSp and Parch\n",
        "dataset[\"Fsize\"] = dataset[\"SibSp\"] + dataset[\"Parch\"] + 1"
      ],
      "metadata": {
        "id": "U5D0Oz_ciRIy"
      },
      "execution_count": null,
      "outputs": []
    },
    {
      "cell_type": "code",
      "source": [
        "g = sns.factorplot(x=\"Fsize\", y=\"Survived\", data=dataset)\n",
        "g = g.set_ylabels(\"Survival Probability\")"
      ],
      "metadata": {
        "id": "tiED9q1hiSm3"
      },
      "execution_count": null,
      "outputs": []
    },
    {
      "cell_type": "markdown",
      "source": [
        "The family size seems to play an important role, survival probability is worst for large families.\n",
        "\n",
        "Additionally, i decided to created 4 categories of family size."
      ],
      "metadata": {
        "id": "ioW7k6wPiqr5"
      }
    },
    {
      "cell_type": "code",
      "source": [
        "# Create new feature of family size\n",
        "dataset['Single'] = dataset['Fsize'].map(lambda s: 1 if s == 1 else 0)\n",
        "dataset['SmallF'] = dataset['Fsize'].map(lambda s: 1 if  s == 2  else 0)\n",
        "dataset['MedF'] = dataset['Fsize'].map(lambda s: 1 if 3 <= s <= 4 else 0)\n",
        "dataset['LargeF'] = dataset['Fsize'].map(lambda s: 1 if s >= 5 else 0)"
      ],
      "metadata": {
        "id": "xrLq7_xsio9v"
      },
      "execution_count": null,
      "outputs": []
    },
    {
      "cell_type": "code",
      "source": [
        "g = sns.factorplot(x=\"Single\",y=\"Survived\",data=dataset,kind=\"bar\")\n",
        "g = g.set_ylabels(\"Survival Probability\")\n",
        "g = sns.factorplot(x=\"SmallF\",y=\"Survived\",data=dataset,kind=\"bar\")\n",
        "g = g.set_ylabels(\"Survival Probability\")\n",
        "g = sns.factorplot(x=\"MedF\",y=\"Survived\",data=dataset,kind=\"bar\")\n",
        "g = g.set_ylabels(\"Survival Probability\")\n",
        "g = sns.factorplot(x=\"LargeF\",y=\"Survived\",data=dataset,kind=\"bar\")\n",
        "g = g.set_ylabels(\"Survival Probability\")"
      ],
      "metadata": {
        "id": "aZ9U9Yiqi5xS"
      },
      "execution_count": null,
      "outputs": []
    },
    {
      "cell_type": "markdown",
      "source": [
        "Factorplots of family size categories show that Small and Medium families have more chance to survive than single passenger and large families."
      ],
      "metadata": {
        "id": "l59ajeT4i9qS"
      }
    },
    {
      "cell_type": "code",
      "source": [
        "# convert to indicator values Title and Embarked \n",
        "dataset = pd.get_dummies(dataset, columns = [\"Title\"])\n",
        "dataset = pd.get_dummies(dataset, columns = [\"Embarked\"], prefix=\"Em\")"
      ],
      "metadata": {
        "id": "OgK0qwmWi-A_"
      },
      "execution_count": null,
      "outputs": []
    },
    {
      "cell_type": "code",
      "source": [
        "dataset.head()"
      ],
      "metadata": {
        "id": "WOxZiIMjjCuY"
      },
      "execution_count": null,
      "outputs": []
    },
    {
      "cell_type": "markdown",
      "source": [
        "At this stage, we have 22 features."
      ],
      "metadata": {
        "id": "nGqBFlBNjG6v"
      }
    },
    {
      "cell_type": "markdown",
      "source": [
        "##5.3 Cabin"
      ],
      "metadata": {
        "id": "dorO2fQfjKDt"
      }
    },
    {
      "cell_type": "code",
      "source": [
        "dataset[\"Cabin\"].head()"
      ],
      "metadata": {
        "id": "uDtGgTPrjMJr"
      },
      "execution_count": null,
      "outputs": []
    },
    {
      "cell_type": "code",
      "source": [
        "dataset[\"Cabin\"].describe()"
      ],
      "metadata": {
        "id": "ERoIFOWvjRJs"
      },
      "execution_count": null,
      "outputs": []
    },
    {
      "cell_type": "code",
      "source": [
        "dataset[\"Cabin\"].isnull().sum()"
      ],
      "metadata": {
        "id": "8Hc1XaDejVYV"
      },
      "execution_count": null,
      "outputs": []
    },
    {
      "cell_type": "markdown",
      "source": [
        "The Cabin feature column contains 292 values and 1007 missing values.\n",
        "\n",
        "I supposed that passengers without a cabin have a missing value displayed instead of the cabin number."
      ],
      "metadata": {
        "id": "vxwqT3DZjfBs"
      }
    },
    {
      "cell_type": "code",
      "source": [
        "dataset[\"Cabin\"][dataset[\"Cabin\"].notnull()].head()"
      ],
      "metadata": {
        "id": "hUNdUkhEjbWJ"
      },
      "execution_count": null,
      "outputs": []
    },
    {
      "cell_type": "code",
      "source": [
        "# Replace the Cabin number by the type of cabin 'X' if not\n",
        "dataset[\"Cabin\"] = pd.Series([i[0] if not pd.isnull(i) else 'X' for i in dataset['Cabin'] ])"
      ],
      "metadata": {
        "id": "rMsJ_ECujpVP"
      },
      "execution_count": null,
      "outputs": []
    },
    {
      "cell_type": "markdown",
      "source": [
        "The first letter of the cabin indicates the Desk, i choosed to keep this information only, since it indicates the probable location of the passenger in the Titanic."
      ],
      "metadata": {
        "id": "quLcw1YUjuTq"
      }
    },
    {
      "cell_type": "code",
      "source": [
        "g = sns.countplot(dataset[\"Cabin\"], order=['A','B','C','D','E','F','G','T','X'])"
      ],
      "metadata": {
        "id": "V-TsHBadjv0V"
      },
      "execution_count": null,
      "outputs": []
    },
    {
      "cell_type": "code",
      "source": [
        "g = sns.factorplot(y=\"Survived\",x=\"Cabin\",data=dataset,kind=\"bar\",order=['A','B','C','D','E','F','G','T','X'])\n",
        "g = g.set_ylabels(\"Survival Probability\")"
      ],
      "metadata": {
        "id": "0Mgn-4ydkAFc"
      },
      "execution_count": null,
      "outputs": []
    },
    {
      "cell_type": "markdown",
      "source": [
        "Because of the low number of passenger that have a cabin, survival probabilities have an important standard deviation and we can't distinguish between survival probability of passengers in the different desks.\n",
        "\n",
        "But we can see that passengers with a cabin have generally more chance to survive than passengers without (X).\n",
        "\n",
        "It is particularly true for cabin B, C, D, E and F."
      ],
      "metadata": {
        "id": "uNc7j9aHkD2r"
      }
    },
    {
      "cell_type": "code",
      "source": [
        "dataset = pd.get_dummies(dataset, columns = [\"Cabin\"],prefix=\"Cabin\")"
      ],
      "metadata": {
        "id": "-xut9cMikFbf"
      },
      "execution_count": null,
      "outputs": []
    },
    {
      "cell_type": "markdown",
      "source": [
        "##5.4 Ticket"
      ],
      "metadata": {
        "id": "d7KVZBYLkHo9"
      }
    },
    {
      "cell_type": "code",
      "source": [
        "dataset[\"Ticket\"].head()"
      ],
      "metadata": {
        "id": "BjZT1svCkLGK"
      },
      "execution_count": null,
      "outputs": []
    },
    {
      "cell_type": "markdown",
      "source": [
        "It could mean that tickets sharing the same prefixes could be booked for cabins placed together. It could therefore lead to the actual placement of the cabins within the ship.\n",
        "\n",
        "Tickets with same prefixes may have a similar class and survival.\n",
        "\n",
        "So i decided to replace the Ticket feature column by the ticket prefixe. Which may be more informative."
      ],
      "metadata": {
        "id": "04UNWZeMkVKs"
      }
    },
    {
      "cell_type": "code",
      "source": [
        "## Treat Ticket by extracting the ticket prefix. When there is no prefix it returns X. \n",
        "\n",
        "Ticket = []\n",
        "for i in list(dataset.Ticket):\n",
        "    if not i.isdigit() :\n",
        "        Ticket.append(i.replace(\".\",\"\").replace(\"/\",\"\").strip().split(' ')[0]) #Take prefix\n",
        "    else:\n",
        "        Ticket.append(\"X\")\n",
        "        \n",
        "dataset[\"Ticket\"] = Ticket\n",
        "dataset[\"Ticket\"].head()"
      ],
      "metadata": {
        "id": "z-uOYRtQkfiI"
      },
      "execution_count": null,
      "outputs": []
    },
    {
      "cell_type": "code",
      "source": [
        "dataset = pd.get_dummies(dataset, columns = [\"Ticket\"], prefix=\"T\")"
      ],
      "metadata": {
        "id": "C3ekxCe4kh_d"
      },
      "execution_count": null,
      "outputs": []
    },
    {
      "cell_type": "code",
      "source": [
        "# Create categorical values for Pclass\n",
        "dataset[\"Pclass\"] = dataset[\"Pclass\"].astype(\"category\")\n",
        "dataset = pd.get_dummies(dataset, columns = [\"Pclass\"],prefix=\"Pc\")"
      ],
      "metadata": {
        "id": "SoVzSZxxktRS"
      },
      "execution_count": null,
      "outputs": []
    },
    {
      "cell_type": "code",
      "source": [
        "# Drop useless variables \n",
        "dataset.drop(labels = [\"PassengerId\"], axis = 1, inplace = True)"
      ],
      "metadata": {
        "id": "Tutw4q2QkzUF"
      },
      "execution_count": null,
      "outputs": []
    },
    {
      "cell_type": "code",
      "source": [
        "dataset.head()"
      ],
      "metadata": {
        "id": "seVaHVFTk03i"
      },
      "execution_count": null,
      "outputs": []
    },
    {
      "cell_type": "markdown",
      "source": [
        "#6. MODELING"
      ],
      "metadata": {
        "id": "7U_bKWx0k3en"
      }
    },
    {
      "cell_type": "code",
      "source": [
        "## Separate train dataset and test dataset\n",
        "\n",
        "train = dataset[:train_len]\n",
        "test = dataset[train_len:]\n",
        "test.drop(labels=[\"Survived\"],axis = 1,inplace=True)"
      ],
      "metadata": {
        "id": "1kMk9jIgk5Xm"
      },
      "execution_count": null,
      "outputs": []
    },
    {
      "cell_type": "code",
      "source": [
        "## Separate train features and label \n",
        "\n",
        "train[\"Survived\"] = train[\"Survived\"].astype(int)\n",
        "\n",
        "Y_train = train[\"Survived\"]\n",
        "\n",
        "X_train = train.drop(labels = [\"Survived\"],axis = 1)"
      ],
      "metadata": {
        "id": "wXxCx37Sk7vE"
      },
      "execution_count": null,
      "outputs": []
    },
    {
      "cell_type": "markdown",
      "source": [
        "##6.1 Simple modeling"
      ],
      "metadata": {
        "id": "SMyqvpoxk_SE"
      }
    },
    {
      "cell_type": "markdown",
      "source": [
        "###6.1.1 Cross validate models"
      ],
      "metadata": {
        "id": "5QIyDW75lCV1"
      }
    },
    {
      "cell_type": "markdown",
      "source": [
        "I compared 10 popular classifiers and evaluate the mean accuracy of each of them by a stratified kfold cross validation procedure.\n",
        "\n",
        "* SVC\n",
        "* Decision Tree\n",
        "* AdaBoost\n",
        "* Random Forest\n",
        "* Extra Trees\n",
        "* Gradient Boosting\n",
        "* Multiple layer perceprton (neural network)\n",
        "* KNN\n",
        "* Logistic regression\n",
        "* Linear Discriminant Analysis"
      ],
      "metadata": {
        "id": "W2u-NCyBlFO0"
      }
    },
    {
      "cell_type": "code",
      "source": [
        "# Cross validate model with Kfold stratified cross val\n",
        "kfold = StratifiedKFold(n_splits=10)"
      ],
      "metadata": {
        "id": "uPFCJL7elPHz"
      },
      "execution_count": null,
      "outputs": []
    },
    {
      "cell_type": "code",
      "source": [
        "# Modeling step Test differents algorithms \n",
        "random_state = 2\n",
        "classifiers = []\n",
        "classifiers.append(SVC(random_state=random_state))\n",
        "classifiers.append(DecisionTreeClassifier(random_state=random_state))\n",
        "classifiers.append(AdaBoostClassifier(DecisionTreeClassifier(random_state=random_state),random_state=random_state,learning_rate=0.1))\n",
        "classifiers.append(RandomForestClassifier(random_state=random_state))\n",
        "classifiers.append(ExtraTreesClassifier(random_state=random_state))\n",
        "classifiers.append(GradientBoostingClassifier(random_state=random_state))\n",
        "classifiers.append(MLPClassifier(random_state=random_state))\n",
        "classifiers.append(KNeighborsClassifier())\n",
        "classifiers.append(LogisticRegression(random_state = random_state))\n",
        "classifiers.append(LinearDiscriminantAnalysis())\n",
        "\n",
        "cv_results = []\n",
        "for classifier in classifiers :\n",
        "    cv_results.append(cross_val_score(classifier, X_train, y = Y_train, scoring = \"accuracy\", cv = kfold, n_jobs=4))\n",
        "\n",
        "cv_means = []\n",
        "cv_std = []\n",
        "for cv_result in cv_results:\n",
        "    cv_means.append(cv_result.mean())\n",
        "    cv_std.append(cv_result.std())\n",
        "\n",
        "cv_res = pd.DataFrame({\"CrossValMeans\":cv_means,\"CrossValerrors\": cv_std,\"Algorithm\":[\"SVC\",\"DecisionTree\",\"AdaBoost\",\n",
        "\"RandomForest\",\"ExtraTrees\",\"GradientBoosting\",\"MultipleLayerPerceptron\",\"KNeighboors\",\"LogisticRegression\",\"LinearDiscriminantAnalysis\"]})\n",
        "\n",
        "g = sns.barplot(\"CrossValMeans\",\"Algorithm\",data = cv_res, palette=\"Set3\",orient = \"h\",**{'xerr':cv_std})\n",
        "g.set_xlabel(\"Mean Accuracy\")\n",
        "g = g.set_title(\"Cross validation scores\")"
      ],
      "metadata": {
        "id": "zxnB2S_ck90a"
      },
      "execution_count": null,
      "outputs": []
    },
    {
      "cell_type": "markdown",
      "source": [
        "I decided to choose the SVC, AdaBoost, RandomForest , ExtraTrees and the GradientBoosting classifiers for the ensemble modeling."
      ],
      "metadata": {
        "id": "jW_2bSgQlVCn"
      }
    },
    {
      "cell_type": "markdown",
      "source": [
        "###6.1.2 Hyperparameter tunning for best models"
      ],
      "metadata": {
        "id": "s0kpp3HklXfq"
      }
    },
    {
      "cell_type": "markdown",
      "source": [
        "I performed a grid search optimization for AdaBoost, ExtraTrees , RandomForest, GradientBoosting and SVC classifiers.\n",
        "\n",
        "I set the \"n_jobs\" parameter to 4 since i have 4 cpu . The computation time is clearly reduced.\n",
        "\n",
        "But be carefull, this step can take a long time, i took me 15 min in total on 4 cpu."
      ],
      "metadata": {
        "id": "cGRTD1VnlbyP"
      }
    },
    {
      "cell_type": "code",
      "source": [
        "### META MODELING  WITH ADABOOST, RF, EXTRATREES and GRADIENTBOOSTING\n",
        "\n",
        "# Adaboost\n",
        "DTC = DecisionTreeClassifier()\n",
        "\n",
        "adaDTC = AdaBoostClassifier(DTC, random_state=7)\n",
        "\n",
        "ada_param_grid = {\"base_estimator__criterion\" : [\"gini\", \"entropy\"],\n",
        "              \"base_estimator__splitter\" :   [\"best\", \"random\"],\n",
        "              \"algorithm\" : [\"SAMME\",\"SAMME.R\"],\n",
        "              \"n_estimators\" :[1,2],\n",
        "              \"learning_rate\":  [0.0001, 0.001, 0.01, 0.1, 0.2, 0.3,1.5]}\n",
        "\n",
        "gsadaDTC = GridSearchCV(adaDTC,param_grid = ada_param_grid, cv=kfold, scoring=\"accuracy\", n_jobs= 4, verbose = 1)\n",
        "\n",
        "gsadaDTC.fit(X_train,Y_train)\n",
        "\n",
        "ada_best = gsadaDTC.best_estimator_"
      ],
      "metadata": {
        "id": "pGbG3wSelcSV"
      },
      "execution_count": null,
      "outputs": []
    },
    {
      "cell_type": "code",
      "source": [
        "gsadaDTC.best_score_"
      ],
      "metadata": {
        "id": "6EHgW27il0TK"
      },
      "execution_count": null,
      "outputs": []
    },
    {
      "cell_type": "code",
      "source": [
        "#ExtraTrees \n",
        "ExtC = ExtraTreesClassifier()\n",
        "\n",
        "\n",
        "## Search grid for optimal parameters\n",
        "ex_param_grid = {\"max_depth\": [None],\n",
        "              \"max_features\": [1, 3, 10],\n",
        "              \"min_samples_split\": [2, 3, 10],\n",
        "              \"min_samples_leaf\": [1, 3, 10],\n",
        "              \"bootstrap\": [False],\n",
        "              \"n_estimators\" :[100,300],\n",
        "              \"criterion\": [\"gini\"]}\n",
        "\n",
        "\n",
        "gsExtC = GridSearchCV(ExtC,param_grid = ex_param_grid, cv=kfold, scoring=\"accuracy\", n_jobs= 4, verbose = 1)\n",
        "\n",
        "gsExtC.fit(X_train,Y_train)\n",
        "\n",
        "ExtC_best = gsExtC.best_estimator_\n",
        "\n",
        "# Best score\n",
        "gsExtC.best_score_"
      ],
      "metadata": {
        "id": "ajLaBfiNl2HU"
      },
      "execution_count": null,
      "outputs": []
    },
    {
      "cell_type": "code",
      "source": [
        "# RFC Parameters tunning \n",
        "RFC = RandomForestClassifier()\n",
        "\n",
        "\n",
        "## Search grid for optimal parameters\n",
        "rf_param_grid = {\"max_depth\": [None],\n",
        "              \"max_features\": [1, 3, 10],\n",
        "              \"min_samples_split\": [2, 3, 10],\n",
        "              \"min_samples_leaf\": [1, 3, 10],\n",
        "              \"bootstrap\": [False],\n",
        "              \"n_estimators\" :[100,300],\n",
        "              \"criterion\": [\"gini\"]}\n",
        "\n",
        "\n",
        "gsRFC = GridSearchCV(RFC,param_grid = rf_param_grid, cv=kfold, scoring=\"accuracy\", n_jobs= 4, verbose = 1)\n",
        "\n",
        "gsRFC.fit(X_train,Y_train)\n",
        "\n",
        "RFC_best = gsRFC.best_estimator_\n",
        "\n",
        "# Best score\n",
        "gsRFC.best_score_"
      ],
      "metadata": {
        "id": "UKcMe7KNpzpI"
      },
      "execution_count": null,
      "outputs": []
    },
    {
      "cell_type": "code",
      "source": [
        "# Gradient boosting tunning\n",
        "\n",
        "GBC = GradientBoostingClassifier()\n",
        "gb_param_grid = {'loss' : [\"deviance\"],\n",
        "              'n_estimators' : [100,200,300],\n",
        "              'learning_rate': [0.1, 0.05, 0.01],\n",
        "              'max_depth': [4, 8],\n",
        "              'min_samples_leaf': [100,150],\n",
        "              'max_features': [0.3, 0.1] \n",
        "              }\n",
        "\n",
        "gsGBC = GridSearchCV(GBC,param_grid = gb_param_grid, cv=kfold, scoring=\"accuracy\", n_jobs= 4, verbose = 1)\n",
        "\n",
        "gsGBC.fit(X_train,Y_train)\n",
        "\n",
        "GBC_best = gsGBC.best_estimator_\n",
        "\n",
        "# Best score\n",
        "gsGBC.best_score_"
      ],
      "metadata": {
        "id": "pqcyA9oMqvky"
      },
      "execution_count": null,
      "outputs": []
    },
    {
      "cell_type": "code",
      "source": [
        "### SVC classifier\n",
        "SVMC = SVC(probability=True)\n",
        "svc_param_grid = {'kernel': ['rbf'], \n",
        "                  'gamma': [ 0.001, 0.01, 0.1, 1],\n",
        "                  'C': [1, 10, 50, 100,200,300, 1000]}\n",
        "\n",
        "gsSVMC = GridSearchCV(SVMC,param_grid = svc_param_grid, cv=kfold, scoring=\"accuracy\", n_jobs= 4, verbose = 1)\n",
        "\n",
        "gsSVMC.fit(X_train,Y_train)\n",
        "\n",
        "SVMC_best = gsSVMC.best_estimator_\n",
        "\n",
        "# Best score\n",
        "gsSVMC.best_score_"
      ],
      "metadata": {
        "id": "crTFlEfGqyah"
      },
      "execution_count": null,
      "outputs": []
    },
    {
      "cell_type": "markdown",
      "source": [
        "###6.1.3 Plot learning curves"
      ],
      "metadata": {
        "id": "4aR9TXjTrbaS"
      }
    },
    {
      "cell_type": "markdown",
      "source": [
        "Learning curves are a good way to see the overfitting effect on the training set and the effect of the training size on the accuracy."
      ],
      "metadata": {
        "id": "ej5ag9uhrb99"
      }
    },
    {
      "cell_type": "code",
      "source": [
        "def plot_learning_curve(estimator, title, X, Y, ylim=None, cv=None,\n",
        "                        n_jobs=-1, train_sizes=np.linspace(.1, 1.0, 5)):\n",
        "    \"\"\"Generate a simple plot of the test and training learning curve\"\"\"\n",
        "    plt.figure()\n",
        "    plt.title(title)\n",
        "    if ylim is not None:\n",
        "        plt.ylim(*ylim)\n",
        "    plt.xlabel(\"Training examples\")\n",
        "    plt.ylabel(\"Score\")\n",
        "    train_sizes, train_scores, test_scores = learning_curve(estimator, X, Y, cv=cv, n_jobs=n_jobs, train_sizes=train_sizes)\n",
        "    train_scores_mean = np.mean(train_scores, axis=1)\n",
        "    train_scores_std = np.std(train_scores, axis=1)\n",
        "    test_scores_mean = np.mean(test_scores, axis=1)\n",
        "    test_scores_std = np.std(test_scores, axis=1)\n",
        "    plt.grid()\n",
        "\n",
        "    plt.fill_between(train_sizes, train_scores_mean - train_scores_std,\n",
        "                     train_scores_mean + train_scores_std, alpha=0.1,color=\"r\")\n",
        "    plt.fill_between(train_sizes, test_scores_mean - test_scores_std,\n",
        "                     test_scores_mean + test_scores_std, alpha=0.1, color=\"g\")\n",
        "    plt.plot(train_sizes, train_scores_mean, 'o-', color=\"r\", label=\"Training score\")\n",
        "    plt.plot(train_sizes, test_scores_mean, 'o-', color=\"g\", label=\"Cross-validation score\")\n",
        "\n",
        "    plt.legend(loc=\"best\")\n",
        "    return plt\n",
        "\n",
        "g = plot_learning_curve(gsRFC.best_estimator_,\"RF learning curves\",X_train,Y_train,cv=kfold)\n",
        "g = plot_learning_curve(gsExtC.best_estimator_,\"ExtraTrees learning curves\",X_train,Y_train,cv=kfold)\n",
        "g = plot_learning_curve(gsSVMC.best_estimator_,\"SVC learning curves\",X_train,Y_train,cv=kfold)\n",
        "g = plot_learning_curve(gsadaDTC.best_estimator_,\"AdaBoost learning curves\",X_train,Y_train,cv=kfold)\n",
        "g = plot_learning_curve(gsGBC.best_estimator_,\"GradientBoosting learning curves\",X_train,Y_train,cv=kfold)"
      ],
      "metadata": {
        "id": "tDYvh5fdrdcg"
      },
      "execution_count": null,
      "outputs": []
    },
    {
      "cell_type": "markdown",
      "source": [
        "GradientBoosting and Adaboost classifiers tend to overfit the training set. According to the growing cross-validation curves GradientBoosting and Adaboost could perform better with more training examples.\n",
        "\n",
        "SVC and ExtraTrees classifiers seem to better generalize the prediction since the training and cross-validation curves are close together."
      ],
      "metadata": {
        "id": "GukV86fizVia"
      }
    },
    {
      "cell_type": "markdown",
      "source": [
        "###6.1.4 Feature importance of tree based classifiers"
      ],
      "metadata": {
        "id": "kFozUfKuzXSA"
      }
    },
    {
      "cell_type": "markdown",
      "source": [
        "In order to see the most informative features for the prediction of passengers survival, i displayed the feature importance for the 4 tree based classifiers."
      ],
      "metadata": {
        "id": "ymtpyNPwzY2h"
      }
    },
    {
      "cell_type": "code",
      "source": [
        "nrows = ncols = 2\n",
        "fig, axes = plt.subplots(nrows = nrows, ncols = ncols, sharex=\"all\", figsize=(15,15))\n",
        "\n",
        "names_classifiers = [(\"AdaBoosting\", ada_best),(\"ExtraTrees\",ExtC_best),(\"RandomForest\",RFC_best),(\"GradientBoosting\",GBC_best)]\n",
        "\n",
        "nclassifier = 0\n",
        "for row in range(nrows):\n",
        "    for col in range(ncols):\n",
        "        name = names_classifiers[nclassifier][0]\n",
        "        classifier = names_classifiers[nclassifier][1]\n",
        "        indices = np.argsort(classifier.feature_importances_)[::-1][:40]\n",
        "        g = sns.barplot(y=X_train.columns[indices][:40],x = classifier.feature_importances_[indices][:40], orient='h',ax=axes[row][col])\n",
        "        g.set_xlabel(\"Relative importance\",fontsize=12)\n",
        "        g.set_ylabel(\"Features\",fontsize=12)\n",
        "        g.tick_params(labelsize=9)\n",
        "        g.set_title(name + \" feature importance\")\n",
        "        nclassifier += 1"
      ],
      "metadata": {
        "id": "IqvTaCD9zbrq"
      },
      "execution_count": null,
      "outputs": []
    },
    {
      "cell_type": "markdown",
      "source": [
        "I plot the feature importance for the 4 tree based classifiers (Adaboost, ExtraTrees, RandomForest and GradientBoosting).\n",
        "\n",
        "We note that the four classifiers have different top features according to the relative importance. It means that their predictions are not based on the same features. Nevertheless, they share some common important features for the classification , for example 'Fare', 'Title_2', 'Age' and 'Sex'.\n",
        "\n",
        "Title_2 which indicates the Mrs/Mlle/Mme/Miss/Ms category is highly correlated with Sex.\n",
        "\n",
        "We can say that:\n",
        "\n",
        "* Pc_1, Pc_2, Pc_3 and Fare refer to the * general social standing of passengers.\n",
        "\n",
        "* Sex and Title_2 (Mrs/Mlle/Mme/Miss/Ms) and Title_3 (Mr) refer to the gender.\n",
        "\n",
        "* Age and Title_1 (Master) refer to the age of passengers.\n",
        "\n",
        "* Fsize, LargeF, MedF, Single refer to the size of the passenger family.\n",
        "\n",
        "According to the feature importance of this 4 classifiers, the prediction of the survival seems to be more associated with the Age, the Sex, the family size and the social standing of the passengers more than the location in the boat."
      ],
      "metadata": {
        "id": "6rxxVqfe0I8L"
      }
    },
    {
      "cell_type": "code",
      "source": [
        "test_Survived_RFC = pd.Series(RFC_best.predict(test), name=\"RFC\")\n",
        "test_Survived_ExtC = pd.Series(ExtC_best.predict(test), name=\"ExtC\")\n",
        "test_Survived_SVMC = pd.Series(SVMC_best.predict(test), name=\"SVC\")\n",
        "test_Survived_AdaC = pd.Series(ada_best.predict(test), name=\"Ada\")\n",
        "test_Survived_GBC = pd.Series(GBC_best.predict(test), name=\"GBC\")\n",
        "\n",
        "# Concatemate all classifie results\n",
        "ensemble_results = pd.concat([test_Survived_RFC, test_Survived_ExtC, test_Survived_AdaC, test_Survived_GBC, test_Survived_SVMC], axis=1)\n",
        "\n",
        "g = sns.heatmap(ensemble_results.corr(), annot=True)"
      ],
      "metadata": {
        "id": "zrBUCghi0Ddm"
      },
      "execution_count": null,
      "outputs": []
    },
    {
      "cell_type": "markdown",
      "source": [
        "The prediction seems to be quite similar for the 5 classifiers except when Adaboost is compared to the others classifiers.\n",
        "\n",
        "The 5 classifiers give more or less the same prediction but there is some differences. These differences between the 5 classifier predictions are sufficient to consider an ensembling vote."
      ],
      "metadata": {
        "id": "ErgZv9yh1o7i"
      }
    },
    {
      "cell_type": "markdown",
      "source": [
        "##6.2 Ensemble modeling"
      ],
      "metadata": {
        "id": "gP0af1OF20s8"
      }
    },
    {
      "cell_type": "markdown",
      "source": [
        "###6.2.1 Combining models"
      ],
      "metadata": {
        "id": "iahxxJrT25O4"
      }
    },
    {
      "cell_type": "markdown",
      "source": [
        "I choosed a voting classifier to combine the predictions coming from the 5 classifiers.\n",
        "\n",
        "I preferred to pass the argument \"soft\" to the voting parameter to take into account the probability of each vote."
      ],
      "metadata": {
        "id": "mLTfwL5H28i7"
      }
    },
    {
      "cell_type": "code",
      "source": [
        "votingC = VotingClassifier(estimators=[('rfc', RFC_best), ('extc', ExtC_best), ('svc', SVMC_best), ('adac', ada_best), ('gbc', GBC_best)], voting='soft', n_jobs=4)\n",
        "\n",
        "votingC = votingC.fit(X_train, Y_train)"
      ],
      "metadata": {
        "id": "issqcAvZ2wXt"
      },
      "execution_count": null,
      "outputs": []
    },
    {
      "cell_type": "markdown",
      "source": [
        "##6.3 Prediction"
      ],
      "metadata": {
        "id": "ZLcdpl_v4Qbs"
      }
    },
    {
      "cell_type": "markdown",
      "source": [
        "###6.3.1 Predict and Submit results"
      ],
      "metadata": {
        "id": "A5pLWOeA4S2W"
      }
    },
    {
      "cell_type": "code",
      "source": [
        "test_Survived = pd.Series(votingC.predict(test), name=\"Survived\")\n",
        "\n",
        "results = pd.concat([IDtest, test_Survived], axis=1)\n",
        "\n",
        "results.to_csv(\"ensemble_python_voting.csv\", index=False)"
      ],
      "metadata": {
        "id": "XbdmeO844ZKI"
      },
      "execution_count": null,
      "outputs": []
    },
    {
      "cell_type": "markdown",
      "source": [
        "If you found this notebook helpful or you just liked it, some upvotes would be very much appreciated - That will keep me motivated :)"
      ],
      "metadata": {
        "id": "MdcLBJz54TMY"
      }
    }
  ]
}